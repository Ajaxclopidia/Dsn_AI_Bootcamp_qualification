{
 "cells": [
  {
   "cell_type": "code",
   "execution_count": 1,
   "metadata": {
    "id": "ptELAoqdz1bP"
   },
   "outputs": [],
   "source": [
    "import pandas as pd\n",
    "import numpy as np\n",
    "import seaborn as sns\n",
    "import matplotlib.pyplot as plt\n",
    "%matplotlib inline\n",
    "import math"
   ]
  },
  {
   "cell_type": "markdown",
   "metadata": {
    "id": "16ztjYQl9z39"
   },
   "source": [
    "# LOAD DATA"
   ]
  },
  {
   "cell_type": "code",
   "execution_count": 2,
   "metadata": {
    "id": "BqxG2pcS0wO6"
   },
   "outputs": [],
   "source": [
    "build_data=pd.read_csv('Train.csv')\n",
    "test_data=pd.read_csv('Test.csv')\n",
    "var_descr = pd.read_csv('VariableDefinitions.csv')"
   ]
  },
  {
   "cell_type": "code",
   "execution_count": 3,
   "metadata": {
    "colab": {
     "base_uri": "https://localhost:8080/",
     "height": 167
    },
    "id": "g0abUwCY9uV-",
    "outputId": "444755a5-39e6-49df-a4ab-d2f12514e27b"
   },
   "outputs": [
    {
     "data": {
      "text/html": [
       "<div>\n",
       "<style scoped>\n",
       "    .dataframe tbody tr th:only-of-type {\n",
       "        vertical-align: middle;\n",
       "    }\n",
       "\n",
       "    .dataframe tbody tr th {\n",
       "        vertical-align: top;\n",
       "    }\n",
       "\n",
       "    .dataframe thead th {\n",
       "        text-align: right;\n",
       "    }\n",
       "</style>\n",
       "<table border=\"1\" class=\"dataframe\">\n",
       "  <thead>\n",
       "    <tr style=\"text-align: right;\">\n",
       "      <th></th>\n",
       "      <th>ID</th>\n",
       "      <th>country</th>\n",
       "      <th>region</th>\n",
       "      <th>population</th>\n",
       "      <th>age</th>\n",
       "      <th>Q1</th>\n",
       "      <th>Q2</th>\n",
       "      <th>Q3</th>\n",
       "      <th>Q4</th>\n",
       "      <th>Q5</th>\n",
       "      <th>...</th>\n",
       "      <th>Q21</th>\n",
       "      <th>Q22</th>\n",
       "      <th>Q23</th>\n",
       "      <th>Q24</th>\n",
       "      <th>Q25</th>\n",
       "      <th>Q26</th>\n",
       "      <th>Q27</th>\n",
       "      <th>owns_mobile</th>\n",
       "      <th>Q28</th>\n",
       "      <th>target</th>\n",
       "    </tr>\n",
       "  </thead>\n",
       "  <tbody>\n",
       "    <tr>\n",
       "      <th>0</th>\n",
       "      <td>ID_0000020532</td>\n",
       "      <td>Morocco</td>\n",
       "      <td>Middle East &amp; North Africa (excluding high inc...</td>\n",
       "      <td>25550170.0</td>\n",
       "      <td>66.0</td>\n",
       "      <td>2</td>\n",
       "      <td>NaN</td>\n",
       "      <td>NaN</td>\n",
       "      <td>NaN</td>\n",
       "      <td>NaN</td>\n",
       "      <td>...</td>\n",
       "      <td>1</td>\n",
       "      <td>2</td>\n",
       "      <td>NaN</td>\n",
       "      <td>1</td>\n",
       "      <td>2</td>\n",
       "      <td>2.0</td>\n",
       "      <td>2.0</td>\n",
       "      <td>1.0</td>\n",
       "      <td>1.0</td>\n",
       "      <td>0</td>\n",
       "    </tr>\n",
       "    <tr>\n",
       "      <th>1</th>\n",
       "      <td>ID_0000075765</td>\n",
       "      <td>Lebanon</td>\n",
       "      <td>Middle East &amp; North Africa (excluding high inc...</td>\n",
       "      <td>4591023.0</td>\n",
       "      <td>44.0</td>\n",
       "      <td>2</td>\n",
       "      <td>NaN</td>\n",
       "      <td>NaN</td>\n",
       "      <td>2.0</td>\n",
       "      <td>2.0</td>\n",
       "      <td>...</td>\n",
       "      <td>1</td>\n",
       "      <td>2</td>\n",
       "      <td>NaN</td>\n",
       "      <td>2</td>\n",
       "      <td>2</td>\n",
       "      <td>2.0</td>\n",
       "      <td>1.0</td>\n",
       "      <td>1.0</td>\n",
       "      <td>1.0</td>\n",
       "      <td>1</td>\n",
       "    </tr>\n",
       "  </tbody>\n",
       "</table>\n",
       "<p>2 rows × 36 columns</p>\n",
       "</div>"
      ],
      "text/plain": [
       "              ID  country                                             region  \\\n",
       "0  ID_0000020532  Morocco  Middle East & North Africa (excluding high inc...   \n",
       "1  ID_0000075765  Lebanon  Middle East & North Africa (excluding high inc...   \n",
       "\n",
       "   population   age  Q1  Q2  Q3   Q4   Q5  ...  Q21  Q22  Q23  Q24  Q25  Q26  \\\n",
       "0  25550170.0  66.0   2 NaN NaN  NaN  NaN  ...    1    2  NaN    1    2  2.0   \n",
       "1   4591023.0  44.0   2 NaN NaN  2.0  2.0  ...    1    2  NaN    2    2  2.0   \n",
       "\n",
       "   Q27  owns_mobile  Q28  target  \n",
       "0  2.0          1.0  1.0       0  \n",
       "1  1.0          1.0  1.0       1  \n",
       "\n",
       "[2 rows x 36 columns]"
      ]
     },
     "execution_count": 3,
     "metadata": {},
     "output_type": "execute_result"
    }
   ],
   "source": [
    "build_data.head(2)"
   ]
  },
  {
   "cell_type": "markdown",
   "metadata": {
    "id": "75quQHnQ96PU"
   },
   "source": [
    "# Checking for cardinality"
   ]
  },
  {
   "cell_type": "code",
   "execution_count": 4,
   "metadata": {
    "id": "BuMOddrlG3qw"
   },
   "outputs": [],
   "source": [
    "lis3=[]\n",
    "for i in build_data:\n",
    "    lis3.append(build_data[str(i)].nunique())\n",
    "\n",
    "cardinal=pd.DataFrame(lis3,build_data.columns).reset_index()\n",
    "cardinal=cardinal.rename(columns={'index':'Features',0:'cardinality'})"
   ]
  },
  {
   "cell_type": "code",
   "execution_count": 5,
   "metadata": {
    "colab": {
     "base_uri": "https://localhost:8080/",
     "height": 489
    },
    "id": "GCUn3lLcMQwE",
    "outputId": "6c2c07c9-84d3-4513-d32c-3865c50d5c36"
   },
   "outputs": [
    {
     "data": {
      "text/html": [
       "<div>\n",
       "<style scoped>\n",
       "    .dataframe tbody tr th:only-of-type {\n",
       "        vertical-align: middle;\n",
       "    }\n",
       "\n",
       "    .dataframe tbody tr th {\n",
       "        vertical-align: top;\n",
       "    }\n",
       "\n",
       "    .dataframe thead th {\n",
       "        text-align: right;\n",
       "    }\n",
       "</style>\n",
       "<table border=\"1\" class=\"dataframe\">\n",
       "  <thead>\n",
       "    <tr style=\"text-align: right;\">\n",
       "      <th></th>\n",
       "      <th>Features</th>\n",
       "      <th>cardinality</th>\n",
       "    </tr>\n",
       "  </thead>\n",
       "  <tbody>\n",
       "    <tr>\n",
       "      <th>0</th>\n",
       "      <td>ID</td>\n",
       "      <td>104867</td>\n",
       "    </tr>\n",
       "    <tr>\n",
       "      <th>1</th>\n",
       "      <td>country</td>\n",
       "      <td>144</td>\n",
       "    </tr>\n",
       "    <tr>\n",
       "      <th>2</th>\n",
       "      <td>region</td>\n",
       "      <td>8</td>\n",
       "    </tr>\n",
       "    <tr>\n",
       "      <th>3</th>\n",
       "      <td>population</td>\n",
       "      <td>144</td>\n",
       "    </tr>\n",
       "    <tr>\n",
       "      <th>4</th>\n",
       "      <td>age</td>\n",
       "      <td>85</td>\n",
       "    </tr>\n",
       "    <tr>\n",
       "      <th>5</th>\n",
       "      <td>Q1</td>\n",
       "      <td>4</td>\n",
       "    </tr>\n",
       "    <tr>\n",
       "      <th>6</th>\n",
       "      <td>Q2</td>\n",
       "      <td>4</td>\n",
       "    </tr>\n",
       "    <tr>\n",
       "      <th>7</th>\n",
       "      <td>Q3</td>\n",
       "      <td>4</td>\n",
       "    </tr>\n",
       "    <tr>\n",
       "      <th>8</th>\n",
       "      <td>Q4</td>\n",
       "      <td>4</td>\n",
       "    </tr>\n",
       "    <tr>\n",
       "      <th>9</th>\n",
       "      <td>Q5</td>\n",
       "      <td>4</td>\n",
       "    </tr>\n",
       "    <tr>\n",
       "      <th>10</th>\n",
       "      <td>Q6</td>\n",
       "      <td>4</td>\n",
       "    </tr>\n",
       "    <tr>\n",
       "      <th>11</th>\n",
       "      <td>Q7</td>\n",
       "      <td>4</td>\n",
       "    </tr>\n",
       "    <tr>\n",
       "      <th>12</th>\n",
       "      <td>Q8</td>\n",
       "      <td>4</td>\n",
       "    </tr>\n",
       "    <tr>\n",
       "      <th>13</th>\n",
       "      <td>Q9</td>\n",
       "      <td>4</td>\n",
       "    </tr>\n",
       "    <tr>\n",
       "      <th>14</th>\n",
       "      <td>Q10a</td>\n",
       "      <td>4</td>\n",
       "    </tr>\n",
       "    <tr>\n",
       "      <th>15</th>\n",
       "      <td>Q10b</td>\n",
       "      <td>4</td>\n",
       "    </tr>\n",
       "    <tr>\n",
       "      <th>16</th>\n",
       "      <td>Q11</td>\n",
       "      <td>4</td>\n",
       "    </tr>\n",
       "    <tr>\n",
       "      <th>17</th>\n",
       "      <td>Q12</td>\n",
       "      <td>4</td>\n",
       "    </tr>\n",
       "    <tr>\n",
       "      <th>18</th>\n",
       "      <td>Q13a</td>\n",
       "      <td>4</td>\n",
       "    </tr>\n",
       "    <tr>\n",
       "      <th>19</th>\n",
       "      <td>Q14</td>\n",
       "      <td>4</td>\n",
       "    </tr>\n",
       "    <tr>\n",
       "      <th>20</th>\n",
       "      <td>Q15</td>\n",
       "      <td>4</td>\n",
       "    </tr>\n",
       "    <tr>\n",
       "      <th>21</th>\n",
       "      <td>Q16</td>\n",
       "      <td>4</td>\n",
       "    </tr>\n",
       "    <tr>\n",
       "      <th>22</th>\n",
       "      <td>Q17a</td>\n",
       "      <td>4</td>\n",
       "    </tr>\n",
       "    <tr>\n",
       "      <th>23</th>\n",
       "      <td>Q17b</td>\n",
       "      <td>4</td>\n",
       "    </tr>\n",
       "    <tr>\n",
       "      <th>24</th>\n",
       "      <td>Q19</td>\n",
       "      <td>4</td>\n",
       "    </tr>\n",
       "    <tr>\n",
       "      <th>25</th>\n",
       "      <td>Q20</td>\n",
       "      <td>4</td>\n",
       "    </tr>\n",
       "    <tr>\n",
       "      <th>26</th>\n",
       "      <td>Q21</td>\n",
       "      <td>4</td>\n",
       "    </tr>\n",
       "    <tr>\n",
       "      <th>27</th>\n",
       "      <td>Q22</td>\n",
       "      <td>4</td>\n",
       "    </tr>\n",
       "    <tr>\n",
       "      <th>28</th>\n",
       "      <td>Q23</td>\n",
       "      <td>4</td>\n",
       "    </tr>\n",
       "    <tr>\n",
       "      <th>29</th>\n",
       "      <td>Q24</td>\n",
       "      <td>4</td>\n",
       "    </tr>\n",
       "    <tr>\n",
       "      <th>30</th>\n",
       "      <td>Q25</td>\n",
       "      <td>4</td>\n",
       "    </tr>\n",
       "    <tr>\n",
       "      <th>31</th>\n",
       "      <td>Q26</td>\n",
       "      <td>4</td>\n",
       "    </tr>\n",
       "    <tr>\n",
       "      <th>32</th>\n",
       "      <td>Q27</td>\n",
       "      <td>4</td>\n",
       "    </tr>\n",
       "    <tr>\n",
       "      <th>33</th>\n",
       "      <td>owns_mobile</td>\n",
       "      <td>4</td>\n",
       "    </tr>\n",
       "    <tr>\n",
       "      <th>34</th>\n",
       "      <td>Q28</td>\n",
       "      <td>4</td>\n",
       "    </tr>\n",
       "    <tr>\n",
       "      <th>35</th>\n",
       "      <td>target</td>\n",
       "      <td>2</td>\n",
       "    </tr>\n",
       "  </tbody>\n",
       "</table>\n",
       "</div>"
      ],
      "text/plain": [
       "       Features  cardinality\n",
       "0            ID       104867\n",
       "1       country          144\n",
       "2        region            8\n",
       "3    population          144\n",
       "4           age           85\n",
       "5            Q1            4\n",
       "6            Q2            4\n",
       "7            Q3            4\n",
       "8            Q4            4\n",
       "9            Q5            4\n",
       "10           Q6            4\n",
       "11           Q7            4\n",
       "12           Q8            4\n",
       "13           Q9            4\n",
       "14         Q10a            4\n",
       "15         Q10b            4\n",
       "16          Q11            4\n",
       "17          Q12            4\n",
       "18         Q13a            4\n",
       "19          Q14            4\n",
       "20          Q15            4\n",
       "21          Q16            4\n",
       "22         Q17a            4\n",
       "23         Q17b            4\n",
       "24          Q19            4\n",
       "25          Q20            4\n",
       "26          Q21            4\n",
       "27          Q22            4\n",
       "28          Q23            4\n",
       "29          Q24            4\n",
       "30          Q25            4\n",
       "31          Q26            4\n",
       "32          Q27            4\n",
       "33  owns_mobile            4\n",
       "34          Q28            4\n",
       "35       target            2"
      ]
     },
     "execution_count": 5,
     "metadata": {},
     "output_type": "execute_result"
    }
   ],
   "source": [
    "cardinal"
   ]
  },
  {
   "cell_type": "code",
   "execution_count": 6,
   "metadata": {
    "colab": {
     "base_uri": "https://localhost:8080/"
    },
    "id": "IpM4NQbE9_Az",
    "outputId": "8f4e45e3-381a-4b8d-e1fa-65c139b1be1b"
   },
   "outputs": [
    {
     "data": {
      "text/plain": [
       "ID                 0\n",
       "country            0\n",
       "region           679\n",
       "population         0\n",
       "age              287\n",
       "Q1                 0\n",
       "Q2             57146\n",
       "Q3             59653\n",
       "Q4             47422\n",
       "Q5             47422\n",
       "Q6                 0\n",
       "Q7             84226\n",
       "Q8             45838\n",
       "Q9             45838\n",
       "Q10a               0\n",
       "Q10b               0\n",
       "Q11                0\n",
       "Q12                0\n",
       "Q13a               0\n",
       "Q14                0\n",
       "Q15                0\n",
       "Q16                0\n",
       "Q17a               0\n",
       "Q17b               0\n",
       "Q19            24173\n",
       "Q20            24173\n",
       "Q21                0\n",
       "Q22                0\n",
       "Q23            67287\n",
       "Q24                0\n",
       "Q25                0\n",
       "Q26            24173\n",
       "Q27            46438\n",
       "owns_mobile        1\n",
       "Q28            31005\n",
       "target             0\n",
       "dtype: int64"
      ]
     },
     "execution_count": 6,
     "metadata": {},
     "output_type": "execute_result"
    }
   ],
   "source": [
    "build_data.isna().sum()"
   ]
  },
  {
   "cell_type": "code",
   "execution_count": 7,
   "metadata": {
    "colab": {
     "base_uri": "https://localhost:8080/"
    },
    "id": "irn8sJ5g-AMs",
    "outputId": "887962c4-51d4-4a3d-c7ee-5e1ddd1460a6"
   },
   "outputs": [
    {
     "data": {
      "text/plain": [
       "ID                 0\n",
       "country            0\n",
       "region           301\n",
       "population         0\n",
       "age              124\n",
       "Q1                 0\n",
       "Q2             24527\n",
       "Q3             25595\n",
       "Q4             20384\n",
       "Q5             20384\n",
       "Q6                 0\n",
       "Q7             36069\n",
       "Q8             19700\n",
       "Q9             19700\n",
       "Q10a               0\n",
       "Q10b               0\n",
       "Q11                0\n",
       "Q12                0\n",
       "Q13a               0\n",
       "Q14                0\n",
       "Q15                0\n",
       "Q16                0\n",
       "Q17a               0\n",
       "Q17b               0\n",
       "Q19            10431\n",
       "Q20            10431\n",
       "Q21                0\n",
       "Q22                0\n",
       "Q23            28943\n",
       "Q24                0\n",
       "Q25                0\n",
       "Q26            10431\n",
       "Q27            19837\n",
       "owns_mobile        1\n",
       "Q28            13433\n",
       "dtype: int64"
      ]
     },
     "execution_count": 7,
     "metadata": {},
     "output_type": "execute_result"
    }
   ],
   "source": [
    "test_data.isna().sum()"
   ]
  },
  {
   "cell_type": "code",
   "execution_count": 8,
   "metadata": {
    "colab": {
     "base_uri": "https://localhost:8080/"
    },
    "id": "xyPG-_ySOLJ4",
    "outputId": "8b9657fa-8deb-427c-8b1a-434ad081a771"
   },
   "outputs": [
    {
     "name": "stdout",
     "output_type": "stream",
     "text": [
      "all_data size is : (149810, 36)\n"
     ]
    }
   ],
   "source": [
    "# join train and test together\n",
    "ntrain = build_data.shape[0]\n",
    "ntest = test_data.shape[0]\n",
    "\n",
    "all_data = pd.concat((build_data, test_data)).reset_index(drop=True)\n",
    "print(\"all_data size is : {}\".format(all_data.shape))"
   ]
  },
  {
   "cell_type": "markdown",
   "metadata": {
    "id": "fiaX3Vnh-Gdq"
   },
   "source": [
    "# Convert date columns to datetime datatypes "
   ]
  },
  {
   "cell_type": "code",
   "execution_count": 9,
   "metadata": {
    "id": "atW-tsdrObaA"
   },
   "outputs": [],
   "source": [
    "for i in all_data.columns:\n",
    "  if i[-4:] == 'Date':\n",
    "    all_data[str(i)] = pd.to_datetime(all_data[str(i)],infer_datetime_format=True, errors='coerce')"
   ]
  },
  {
   "cell_type": "code",
   "execution_count": 10,
   "metadata": {
    "id": "LMrzIDrCZaql"
   },
   "outputs": [],
   "source": [
    "#all_data['Date diff'] = (all_data['Policy End Date'].dt.year - all_data['Policy Start Date'].dt.year) * 12 \\\n",
    "#+ (all_data['Policy End Date'].dt.month - all_data['Policy Start Date'].dt.month)"
   ]
  },
  {
   "cell_type": "code",
   "execution_count": 11,
   "metadata": {
    "colab": {
     "base_uri": "https://localhost:8080/"
    },
    "id": "PkLVWu9XO6pE",
    "outputId": "ba292f10-4f6c-4a09-acef-c7087c868ff7"
   },
   "outputs": [
    {
     "data": {
      "text/plain": [
       "ID              object\n",
       "country         object\n",
       "region          object\n",
       "population     float64\n",
       "age            float64\n",
       "Q1               int64\n",
       "Q2             float64\n",
       "Q3             float64\n",
       "Q4             float64\n",
       "Q5             float64\n",
       "Q6               int64\n",
       "Q7             float64\n",
       "Q8             float64\n",
       "Q9             float64\n",
       "Q10a             int64\n",
       "Q10b             int64\n",
       "Q11              int64\n",
       "Q12              int64\n",
       "Q13a             int64\n",
       "Q14              int64\n",
       "Q15              int64\n",
       "Q16              int64\n",
       "Q17a             int64\n",
       "Q17b             int64\n",
       "Q19            float64\n",
       "Q20            float64\n",
       "Q21              int64\n",
       "Q22              int64\n",
       "Q23            float64\n",
       "Q24              int64\n",
       "Q25              int64\n",
       "Q26            float64\n",
       "Q27            float64\n",
       "owns_mobile    float64\n",
       "Q28            float64\n",
       "target         float64\n",
       "dtype: object"
      ]
     },
     "execution_count": 11,
     "metadata": {},
     "output_type": "execute_result"
    }
   ],
   "source": [
    "all_data.dtypes"
   ]
  },
  {
   "cell_type": "code",
   "execution_count": 12,
   "metadata": {
    "colab": {
     "base_uri": "https://localhost:8080/",
     "height": 300
    },
    "id": "lL3P-HU_Mne5",
    "outputId": "94cf3bb3-2810-4d46-d72a-de434b2af216"
   },
   "outputs": [
    {
     "data": {
      "text/html": [
       "<div>\n",
       "<style scoped>\n",
       "    .dataframe tbody tr th:only-of-type {\n",
       "        vertical-align: middle;\n",
       "    }\n",
       "\n",
       "    .dataframe tbody tr th {\n",
       "        vertical-align: top;\n",
       "    }\n",
       "\n",
       "    .dataframe thead th {\n",
       "        text-align: right;\n",
       "    }\n",
       "</style>\n",
       "<table border=\"1\" class=\"dataframe\">\n",
       "  <thead>\n",
       "    <tr style=\"text-align: right;\">\n",
       "      <th></th>\n",
       "      <th>population</th>\n",
       "      <th>age</th>\n",
       "      <th>Q1</th>\n",
       "      <th>Q2</th>\n",
       "      <th>Q3</th>\n",
       "      <th>Q4</th>\n",
       "      <th>Q5</th>\n",
       "      <th>Q6</th>\n",
       "      <th>Q7</th>\n",
       "      <th>Q8</th>\n",
       "      <th>...</th>\n",
       "      <th>Q21</th>\n",
       "      <th>Q22</th>\n",
       "      <th>Q23</th>\n",
       "      <th>Q24</th>\n",
       "      <th>Q25</th>\n",
       "      <th>Q26</th>\n",
       "      <th>Q27</th>\n",
       "      <th>owns_mobile</th>\n",
       "      <th>Q28</th>\n",
       "      <th>target</th>\n",
       "    </tr>\n",
       "  </thead>\n",
       "  <tbody>\n",
       "    <tr>\n",
       "      <th>count</th>\n",
       "      <td>1.048670e+05</td>\n",
       "      <td>104580.000000</td>\n",
       "      <td>104867.000000</td>\n",
       "      <td>47721.000000</td>\n",
       "      <td>45214.000000</td>\n",
       "      <td>57445.000000</td>\n",
       "      <td>57445.000000</td>\n",
       "      <td>104867.000000</td>\n",
       "      <td>20641.000000</td>\n",
       "      <td>59029.000000</td>\n",
       "      <td>...</td>\n",
       "      <td>104867.000000</td>\n",
       "      <td>104867.000000</td>\n",
       "      <td>37580.000000</td>\n",
       "      <td>104867.000000</td>\n",
       "      <td>104867.000000</td>\n",
       "      <td>80694.000000</td>\n",
       "      <td>58429.000000</td>\n",
       "      <td>104866.000000</td>\n",
       "      <td>73862.000000</td>\n",
       "      <td>104867.000000</td>\n",
       "    </tr>\n",
       "    <tr>\n",
       "      <th>mean</th>\n",
       "      <td>6.728827e+07</td>\n",
       "      <td>41.820922</td>\n",
       "      <td>1.556000</td>\n",
       "      <td>1.060078</td>\n",
       "      <td>1.297784</td>\n",
       "      <td>1.618835</td>\n",
       "      <td>1.556202</td>\n",
       "      <td>1.818542</td>\n",
       "      <td>1.153772</td>\n",
       "      <td>1.220485</td>\n",
       "      <td>...</td>\n",
       "      <td>1.432052</td>\n",
       "      <td>1.650252</td>\n",
       "      <td>1.745796</td>\n",
       "      <td>1.861930</td>\n",
       "      <td>1.880801</td>\n",
       "      <td>1.855565</td>\n",
       "      <td>1.846378</td>\n",
       "      <td>1.176377</td>\n",
       "      <td>1.125586</td>\n",
       "      <td>0.581794</td>\n",
       "    </tr>\n",
       "    <tr>\n",
       "      <th>std</th>\n",
       "      <td>2.095529e+08</td>\n",
       "      <td>17.823733</td>\n",
       "      <td>0.522745</td>\n",
       "      <td>0.274234</td>\n",
       "      <td>0.466056</td>\n",
       "      <td>0.496068</td>\n",
       "      <td>0.509122</td>\n",
       "      <td>0.429471</td>\n",
       "      <td>0.372760</td>\n",
       "      <td>0.439298</td>\n",
       "      <td>...</td>\n",
       "      <td>0.516419</td>\n",
       "      <td>0.498633</td>\n",
       "      <td>0.452266</td>\n",
       "      <td>0.375167</td>\n",
       "      <td>0.357280</td>\n",
       "      <td>0.375795</td>\n",
       "      <td>0.393282</td>\n",
       "      <td>0.394253</td>\n",
       "      <td>0.343106</td>\n",
       "      <td>0.493267</td>\n",
       "    </tr>\n",
       "    <tr>\n",
       "      <th>min</th>\n",
       "      <td>3.739912e+05</td>\n",
       "      <td>15.000000</td>\n",
       "      <td>1.000000</td>\n",
       "      <td>1.000000</td>\n",
       "      <td>1.000000</td>\n",
       "      <td>1.000000</td>\n",
       "      <td>1.000000</td>\n",
       "      <td>1.000000</td>\n",
       "      <td>1.000000</td>\n",
       "      <td>1.000000</td>\n",
       "      <td>...</td>\n",
       "      <td>1.000000</td>\n",
       "      <td>1.000000</td>\n",
       "      <td>1.000000</td>\n",
       "      <td>1.000000</td>\n",
       "      <td>1.000000</td>\n",
       "      <td>1.000000</td>\n",
       "      <td>1.000000</td>\n",
       "      <td>1.000000</td>\n",
       "      <td>1.000000</td>\n",
       "      <td>0.000000</td>\n",
       "    </tr>\n",
       "    <tr>\n",
       "      <th>25%</th>\n",
       "      <td>4.335264e+06</td>\n",
       "      <td>27.000000</td>\n",
       "      <td>1.000000</td>\n",
       "      <td>1.000000</td>\n",
       "      <td>1.000000</td>\n",
       "      <td>1.000000</td>\n",
       "      <td>1.000000</td>\n",
       "      <td>2.000000</td>\n",
       "      <td>1.000000</td>\n",
       "      <td>1.000000</td>\n",
       "      <td>...</td>\n",
       "      <td>1.000000</td>\n",
       "      <td>1.000000</td>\n",
       "      <td>1.000000</td>\n",
       "      <td>2.000000</td>\n",
       "      <td>2.000000</td>\n",
       "      <td>2.000000</td>\n",
       "      <td>2.000000</td>\n",
       "      <td>1.000000</td>\n",
       "      <td>1.000000</td>\n",
       "      <td>0.000000</td>\n",
       "    </tr>\n",
       "    <tr>\n",
       "      <th>50%</th>\n",
       "      <td>9.386639e+06</td>\n",
       "      <td>39.000000</td>\n",
       "      <td>2.000000</td>\n",
       "      <td>1.000000</td>\n",
       "      <td>1.000000</td>\n",
       "      <td>2.000000</td>\n",
       "      <td>2.000000</td>\n",
       "      <td>2.000000</td>\n",
       "      <td>1.000000</td>\n",
       "      <td>1.000000</td>\n",
       "      <td>...</td>\n",
       "      <td>1.000000</td>\n",
       "      <td>2.000000</td>\n",
       "      <td>2.000000</td>\n",
       "      <td>2.000000</td>\n",
       "      <td>2.000000</td>\n",
       "      <td>2.000000</td>\n",
       "      <td>2.000000</td>\n",
       "      <td>1.000000</td>\n",
       "      <td>1.000000</td>\n",
       "      <td>1.000000</td>\n",
       "    </tr>\n",
       "    <tr>\n",
       "      <th>75%</th>\n",
       "      <td>3.051912e+07</td>\n",
       "      <td>55.000000</td>\n",
       "      <td>2.000000</td>\n",
       "      <td>1.000000</td>\n",
       "      <td>2.000000</td>\n",
       "      <td>2.000000</td>\n",
       "      <td>2.000000</td>\n",
       "      <td>2.000000</td>\n",
       "      <td>1.000000</td>\n",
       "      <td>1.000000</td>\n",
       "      <td>...</td>\n",
       "      <td>2.000000</td>\n",
       "      <td>2.000000</td>\n",
       "      <td>2.000000</td>\n",
       "      <td>2.000000</td>\n",
       "      <td>2.000000</td>\n",
       "      <td>2.000000</td>\n",
       "      <td>2.000000</td>\n",
       "      <td>1.000000</td>\n",
       "      <td>1.000000</td>\n",
       "      <td>1.000000</td>\n",
       "    </tr>\n",
       "    <tr>\n",
       "      <th>max</th>\n",
       "      <td>1.134634e+09</td>\n",
       "      <td>99.000000</td>\n",
       "      <td>4.000000</td>\n",
       "      <td>4.000000</td>\n",
       "      <td>4.000000</td>\n",
       "      <td>4.000000</td>\n",
       "      <td>4.000000</td>\n",
       "      <td>4.000000</td>\n",
       "      <td>4.000000</td>\n",
       "      <td>4.000000</td>\n",
       "      <td>...</td>\n",
       "      <td>4.000000</td>\n",
       "      <td>4.000000</td>\n",
       "      <td>4.000000</td>\n",
       "      <td>4.000000</td>\n",
       "      <td>4.000000</td>\n",
       "      <td>4.000000</td>\n",
       "      <td>4.000000</td>\n",
       "      <td>4.000000</td>\n",
       "      <td>4.000000</td>\n",
       "      <td>1.000000</td>\n",
       "    </tr>\n",
       "  </tbody>\n",
       "</table>\n",
       "<p>8 rows × 33 columns</p>\n",
       "</div>"
      ],
      "text/plain": [
       "         population            age             Q1            Q2            Q3  \\\n",
       "count  1.048670e+05  104580.000000  104867.000000  47721.000000  45214.000000   \n",
       "mean   6.728827e+07      41.820922       1.556000      1.060078      1.297784   \n",
       "std    2.095529e+08      17.823733       0.522745      0.274234      0.466056   \n",
       "min    3.739912e+05      15.000000       1.000000      1.000000      1.000000   \n",
       "25%    4.335264e+06      27.000000       1.000000      1.000000      1.000000   \n",
       "50%    9.386639e+06      39.000000       2.000000      1.000000      1.000000   \n",
       "75%    3.051912e+07      55.000000       2.000000      1.000000      2.000000   \n",
       "max    1.134634e+09      99.000000       4.000000      4.000000      4.000000   \n",
       "\n",
       "                 Q4            Q5             Q6            Q7            Q8  \\\n",
       "count  57445.000000  57445.000000  104867.000000  20641.000000  59029.000000   \n",
       "mean       1.618835      1.556202       1.818542      1.153772      1.220485   \n",
       "std        0.496068      0.509122       0.429471      0.372760      0.439298   \n",
       "min        1.000000      1.000000       1.000000      1.000000      1.000000   \n",
       "25%        1.000000      1.000000       2.000000      1.000000      1.000000   \n",
       "50%        2.000000      2.000000       2.000000      1.000000      1.000000   \n",
       "75%        2.000000      2.000000       2.000000      1.000000      1.000000   \n",
       "max        4.000000      4.000000       4.000000      4.000000      4.000000   \n",
       "\n",
       "       ...            Q21            Q22           Q23            Q24  \\\n",
       "count  ...  104867.000000  104867.000000  37580.000000  104867.000000   \n",
       "mean   ...       1.432052       1.650252      1.745796       1.861930   \n",
       "std    ...       0.516419       0.498633      0.452266       0.375167   \n",
       "min    ...       1.000000       1.000000      1.000000       1.000000   \n",
       "25%    ...       1.000000       1.000000      1.000000       2.000000   \n",
       "50%    ...       1.000000       2.000000      2.000000       2.000000   \n",
       "75%    ...       2.000000       2.000000      2.000000       2.000000   \n",
       "max    ...       4.000000       4.000000      4.000000       4.000000   \n",
       "\n",
       "                 Q25           Q26           Q27    owns_mobile           Q28  \\\n",
       "count  104867.000000  80694.000000  58429.000000  104866.000000  73862.000000   \n",
       "mean        1.880801      1.855565      1.846378       1.176377      1.125586   \n",
       "std         0.357280      0.375795      0.393282       0.394253      0.343106   \n",
       "min         1.000000      1.000000      1.000000       1.000000      1.000000   \n",
       "25%         2.000000      2.000000      2.000000       1.000000      1.000000   \n",
       "50%         2.000000      2.000000      2.000000       1.000000      1.000000   \n",
       "75%         2.000000      2.000000      2.000000       1.000000      1.000000   \n",
       "max         4.000000      4.000000      4.000000       4.000000      4.000000   \n",
       "\n",
       "              target  \n",
       "count  104867.000000  \n",
       "mean        0.581794  \n",
       "std         0.493267  \n",
       "min         0.000000  \n",
       "25%         0.000000  \n",
       "50%         1.000000  \n",
       "75%         1.000000  \n",
       "max         1.000000  \n",
       "\n",
       "[8 rows x 33 columns]"
      ]
     },
     "execution_count": 12,
     "metadata": {},
     "output_type": "execute_result"
    }
   ],
   "source": [
    "build_data.describe()"
   ]
  },
  {
   "cell_type": "code",
   "execution_count": 13,
   "metadata": {
    "colab": {
     "base_uri": "https://localhost:8080/",
     "height": 300
    },
    "id": "9igO_9l0PMNm",
    "outputId": "eb06ec40-1fe4-4cad-c18b-78b24aa704ae"
   },
   "outputs": [
    {
     "data": {
      "text/html": [
       "<div>\n",
       "<style scoped>\n",
       "    .dataframe tbody tr th:only-of-type {\n",
       "        vertical-align: middle;\n",
       "    }\n",
       "\n",
       "    .dataframe tbody tr th {\n",
       "        vertical-align: top;\n",
       "    }\n",
       "\n",
       "    .dataframe thead th {\n",
       "        text-align: right;\n",
       "    }\n",
       "</style>\n",
       "<table border=\"1\" class=\"dataframe\">\n",
       "  <thead>\n",
       "    <tr style=\"text-align: right;\">\n",
       "      <th></th>\n",
       "      <th>population</th>\n",
       "      <th>age</th>\n",
       "      <th>Q1</th>\n",
       "      <th>Q2</th>\n",
       "      <th>Q3</th>\n",
       "      <th>Q4</th>\n",
       "      <th>Q5</th>\n",
       "      <th>Q6</th>\n",
       "      <th>Q7</th>\n",
       "      <th>Q8</th>\n",
       "      <th>...</th>\n",
       "      <th>Q20</th>\n",
       "      <th>Q21</th>\n",
       "      <th>Q22</th>\n",
       "      <th>Q23</th>\n",
       "      <th>Q24</th>\n",
       "      <th>Q25</th>\n",
       "      <th>Q26</th>\n",
       "      <th>Q27</th>\n",
       "      <th>owns_mobile</th>\n",
       "      <th>Q28</th>\n",
       "    </tr>\n",
       "  </thead>\n",
       "  <tbody>\n",
       "    <tr>\n",
       "      <th>count</th>\n",
       "      <td>4.494300e+04</td>\n",
       "      <td>44819.000000</td>\n",
       "      <td>44943.000000</td>\n",
       "      <td>20416.000000</td>\n",
       "      <td>19348.000000</td>\n",
       "      <td>24559.000000</td>\n",
       "      <td>24559.000000</td>\n",
       "      <td>44943.000000</td>\n",
       "      <td>8874.000000</td>\n",
       "      <td>25243.000000</td>\n",
       "      <td>...</td>\n",
       "      <td>34512.000000</td>\n",
       "      <td>44943.000000</td>\n",
       "      <td>44943.000000</td>\n",
       "      <td>16000.000000</td>\n",
       "      <td>44943.000000</td>\n",
       "      <td>44943.000000</td>\n",
       "      <td>34512.000000</td>\n",
       "      <td>25106.000000</td>\n",
       "      <td>44942.000000</td>\n",
       "      <td>31510.000000</td>\n",
       "    </tr>\n",
       "    <tr>\n",
       "      <th>mean</th>\n",
       "      <td>6.933004e+07</td>\n",
       "      <td>41.754725</td>\n",
       "      <td>1.557751</td>\n",
       "      <td>1.060345</td>\n",
       "      <td>1.291245</td>\n",
       "      <td>1.613461</td>\n",
       "      <td>1.548638</td>\n",
       "      <td>1.818481</td>\n",
       "      <td>1.164526</td>\n",
       "      <td>1.215347</td>\n",
       "      <td>...</td>\n",
       "      <td>1.778338</td>\n",
       "      <td>1.434172</td>\n",
       "      <td>1.651937</td>\n",
       "      <td>1.745375</td>\n",
       "      <td>1.860112</td>\n",
       "      <td>1.877957</td>\n",
       "      <td>1.855036</td>\n",
       "      <td>1.847686</td>\n",
       "      <td>1.179899</td>\n",
       "      <td>1.128086</td>\n",
       "    </tr>\n",
       "    <tr>\n",
       "      <th>std</th>\n",
       "      <td>2.138406e+08</td>\n",
       "      <td>17.910557</td>\n",
       "      <td>0.524973</td>\n",
       "      <td>0.276046</td>\n",
       "      <td>0.460225</td>\n",
       "      <td>0.497145</td>\n",
       "      <td>0.511519</td>\n",
       "      <td>0.431224</td>\n",
       "      <td>0.382444</td>\n",
       "      <td>0.436680</td>\n",
       "      <td>...</td>\n",
       "      <td>0.439966</td>\n",
       "      <td>0.515070</td>\n",
       "      <td>0.496399</td>\n",
       "      <td>0.451723</td>\n",
       "      <td>0.374631</td>\n",
       "      <td>0.357305</td>\n",
       "      <td>0.377105</td>\n",
       "      <td>0.391279</td>\n",
       "      <td>0.398606</td>\n",
       "      <td>0.349055</td>\n",
       "    </tr>\n",
       "    <tr>\n",
       "      <th>min</th>\n",
       "      <td>3.739912e+05</td>\n",
       "      <td>15.000000</td>\n",
       "      <td>1.000000</td>\n",
       "      <td>1.000000</td>\n",
       "      <td>1.000000</td>\n",
       "      <td>1.000000</td>\n",
       "      <td>1.000000</td>\n",
       "      <td>1.000000</td>\n",
       "      <td>1.000000</td>\n",
       "      <td>1.000000</td>\n",
       "      <td>...</td>\n",
       "      <td>1.000000</td>\n",
       "      <td>1.000000</td>\n",
       "      <td>1.000000</td>\n",
       "      <td>1.000000</td>\n",
       "      <td>1.000000</td>\n",
       "      <td>1.000000</td>\n",
       "      <td>1.000000</td>\n",
       "      <td>1.000000</td>\n",
       "      <td>1.000000</td>\n",
       "      <td>1.000000</td>\n",
       "    </tr>\n",
       "    <tr>\n",
       "      <th>25%</th>\n",
       "      <td>4.300062e+06</td>\n",
       "      <td>27.000000</td>\n",
       "      <td>1.000000</td>\n",
       "      <td>1.000000</td>\n",
       "      <td>1.000000</td>\n",
       "      <td>1.000000</td>\n",
       "      <td>1.000000</td>\n",
       "      <td>2.000000</td>\n",
       "      <td>1.000000</td>\n",
       "      <td>1.000000</td>\n",
       "      <td>...</td>\n",
       "      <td>2.000000</td>\n",
       "      <td>1.000000</td>\n",
       "      <td>1.000000</td>\n",
       "      <td>1.000000</td>\n",
       "      <td>2.000000</td>\n",
       "      <td>2.000000</td>\n",
       "      <td>2.000000</td>\n",
       "      <td>2.000000</td>\n",
       "      <td>1.000000</td>\n",
       "      <td>1.000000</td>\n",
       "    </tr>\n",
       "    <tr>\n",
       "      <th>50%</th>\n",
       "      <td>9.386639e+06</td>\n",
       "      <td>39.000000</td>\n",
       "      <td>2.000000</td>\n",
       "      <td>1.000000</td>\n",
       "      <td>1.000000</td>\n",
       "      <td>2.000000</td>\n",
       "      <td>2.000000</td>\n",
       "      <td>2.000000</td>\n",
       "      <td>1.000000</td>\n",
       "      <td>1.000000</td>\n",
       "      <td>...</td>\n",
       "      <td>2.000000</td>\n",
       "      <td>1.000000</td>\n",
       "      <td>2.000000</td>\n",
       "      <td>2.000000</td>\n",
       "      <td>2.000000</td>\n",
       "      <td>2.000000</td>\n",
       "      <td>2.000000</td>\n",
       "      <td>2.000000</td>\n",
       "      <td>1.000000</td>\n",
       "      <td>1.000000</td>\n",
       "    </tr>\n",
       "    <tr>\n",
       "      <th>75%</th>\n",
       "      <td>3.051912e+07</td>\n",
       "      <td>55.000000</td>\n",
       "      <td>2.000000</td>\n",
       "      <td>1.000000</td>\n",
       "      <td>2.000000</td>\n",
       "      <td>2.000000</td>\n",
       "      <td>2.000000</td>\n",
       "      <td>2.000000</td>\n",
       "      <td>1.000000</td>\n",
       "      <td>1.000000</td>\n",
       "      <td>...</td>\n",
       "      <td>2.000000</td>\n",
       "      <td>2.000000</td>\n",
       "      <td>2.000000</td>\n",
       "      <td>2.000000</td>\n",
       "      <td>2.000000</td>\n",
       "      <td>2.000000</td>\n",
       "      <td>2.000000</td>\n",
       "      <td>2.000000</td>\n",
       "      <td>1.000000</td>\n",
       "      <td>1.000000</td>\n",
       "    </tr>\n",
       "    <tr>\n",
       "      <th>max</th>\n",
       "      <td>1.134634e+09</td>\n",
       "      <td>99.000000</td>\n",
       "      <td>4.000000</td>\n",
       "      <td>4.000000</td>\n",
       "      <td>4.000000</td>\n",
       "      <td>4.000000</td>\n",
       "      <td>4.000000</td>\n",
       "      <td>4.000000</td>\n",
       "      <td>4.000000</td>\n",
       "      <td>4.000000</td>\n",
       "      <td>...</td>\n",
       "      <td>4.000000</td>\n",
       "      <td>4.000000</td>\n",
       "      <td>4.000000</td>\n",
       "      <td>4.000000</td>\n",
       "      <td>4.000000</td>\n",
       "      <td>4.000000</td>\n",
       "      <td>4.000000</td>\n",
       "      <td>4.000000</td>\n",
       "      <td>4.000000</td>\n",
       "      <td>4.000000</td>\n",
       "    </tr>\n",
       "  </tbody>\n",
       "</table>\n",
       "<p>8 rows × 32 columns</p>\n",
       "</div>"
      ],
      "text/plain": [
       "         population           age            Q1            Q2            Q3  \\\n",
       "count  4.494300e+04  44819.000000  44943.000000  20416.000000  19348.000000   \n",
       "mean   6.933004e+07     41.754725      1.557751      1.060345      1.291245   \n",
       "std    2.138406e+08     17.910557      0.524973      0.276046      0.460225   \n",
       "min    3.739912e+05     15.000000      1.000000      1.000000      1.000000   \n",
       "25%    4.300062e+06     27.000000      1.000000      1.000000      1.000000   \n",
       "50%    9.386639e+06     39.000000      2.000000      1.000000      1.000000   \n",
       "75%    3.051912e+07     55.000000      2.000000      1.000000      2.000000   \n",
       "max    1.134634e+09     99.000000      4.000000      4.000000      4.000000   \n",
       "\n",
       "                 Q4            Q5            Q6           Q7            Q8  \\\n",
       "count  24559.000000  24559.000000  44943.000000  8874.000000  25243.000000   \n",
       "mean       1.613461      1.548638      1.818481     1.164526      1.215347   \n",
       "std        0.497145      0.511519      0.431224     0.382444      0.436680   \n",
       "min        1.000000      1.000000      1.000000     1.000000      1.000000   \n",
       "25%        1.000000      1.000000      2.000000     1.000000      1.000000   \n",
       "50%        2.000000      2.000000      2.000000     1.000000      1.000000   \n",
       "75%        2.000000      2.000000      2.000000     1.000000      1.000000   \n",
       "max        4.000000      4.000000      4.000000     4.000000      4.000000   \n",
       "\n",
       "       ...           Q20           Q21           Q22           Q23  \\\n",
       "count  ...  34512.000000  44943.000000  44943.000000  16000.000000   \n",
       "mean   ...      1.778338      1.434172      1.651937      1.745375   \n",
       "std    ...      0.439966      0.515070      0.496399      0.451723   \n",
       "min    ...      1.000000      1.000000      1.000000      1.000000   \n",
       "25%    ...      2.000000      1.000000      1.000000      1.000000   \n",
       "50%    ...      2.000000      1.000000      2.000000      2.000000   \n",
       "75%    ...      2.000000      2.000000      2.000000      2.000000   \n",
       "max    ...      4.000000      4.000000      4.000000      4.000000   \n",
       "\n",
       "                Q24           Q25           Q26           Q27   owns_mobile  \\\n",
       "count  44943.000000  44943.000000  34512.000000  25106.000000  44942.000000   \n",
       "mean       1.860112      1.877957      1.855036      1.847686      1.179899   \n",
       "std        0.374631      0.357305      0.377105      0.391279      0.398606   \n",
       "min        1.000000      1.000000      1.000000      1.000000      1.000000   \n",
       "25%        2.000000      2.000000      2.000000      2.000000      1.000000   \n",
       "50%        2.000000      2.000000      2.000000      2.000000      1.000000   \n",
       "75%        2.000000      2.000000      2.000000      2.000000      1.000000   \n",
       "max        4.000000      4.000000      4.000000      4.000000      4.000000   \n",
       "\n",
       "                Q28  \n",
       "count  31510.000000  \n",
       "mean       1.128086  \n",
       "std        0.349055  \n",
       "min        1.000000  \n",
       "25%        1.000000  \n",
       "50%        1.000000  \n",
       "75%        1.000000  \n",
       "max        4.000000  \n",
       "\n",
       "[8 rows x 32 columns]"
      ]
     },
     "execution_count": 13,
     "metadata": {},
     "output_type": "execute_result"
    }
   ],
   "source": [
    "test_data.describe()"
   ]
  },
  {
   "cell_type": "markdown",
   "metadata": {
    "id": "xa9rhjkn-ME0"
   },
   "source": [
    "noticed some strange occurence in the age column, as regarding the max and min\n",
    "\n",
    "pre-processing the age column"
   ]
  },
  {
   "cell_type": "code",
   "execution_count": 14,
   "metadata": {
    "colab": {
     "base_uri": "https://localhost:8080/"
    },
    "id": "q6n3290jV0Br",
    "outputId": "f5c86268-36cb-4eeb-e7dc-325ee34d7977"
   },
   "outputs": [
    {
     "name": "stderr",
     "output_type": "stream",
     "text": [
      "C:\\Users\\Ajaxclopidia\\anaconda3\\lib\\site-packages\\pandas\\core\\indexing.py:670: SettingWithCopyWarning: \n",
      "A value is trying to be set on a copy of a slice from a DataFrame\n",
      "\n",
      "See the caveats in the documentation: https://pandas.pydata.org/pandas-docs/stable/user_guide/indexing.html#returning-a-view-versus-a-copy\n",
      "  iloc._setitem_with_indexer(indexer, value)\n"
     ]
    }
   ],
   "source": [
    "all_data['age'].loc[all_data['age'] < 0] = all_data['age'].loc[all_data['age'] < 0] * -1"
   ]
  },
  {
   "cell_type": "code",
   "execution_count": 15,
   "metadata": {
    "id": "qD09eHh1PfPQ"
   },
   "outputs": [],
   "source": [
    "all_data['Age'] = np.where(all_data['age'] == 320, 120, all_data['age'])\n",
    "all_data['Age'] = np.where(all_data['age'] > 320, 99, all_data['age'])"
   ]
  },
  {
   "cell_type": "code",
   "execution_count": 16,
   "metadata": {
    "colab": {
     "base_uri": "https://localhost:8080/",
     "height": 292
    },
    "id": "C84xlltFRXCo",
    "outputId": "1433cfab-f62c-4b79-b1ee-76956ed36ecd"
   },
   "outputs": [
    {
     "data": {
      "text/html": [
       "<div>\n",
       "<style scoped>\n",
       "    .dataframe tbody tr th:only-of-type {\n",
       "        vertical-align: middle;\n",
       "    }\n",
       "\n",
       "    .dataframe tbody tr th {\n",
       "        vertical-align: top;\n",
       "    }\n",
       "\n",
       "    .dataframe thead th {\n",
       "        text-align: right;\n",
       "    }\n",
       "</style>\n",
       "<table border=\"1\" class=\"dataframe\">\n",
       "  <thead>\n",
       "    <tr style=\"text-align: right;\">\n",
       "      <th></th>\n",
       "      <th>ID</th>\n",
       "      <th>country</th>\n",
       "      <th>region</th>\n",
       "      <th>population</th>\n",
       "      <th>age</th>\n",
       "      <th>Q1</th>\n",
       "      <th>Q2</th>\n",
       "      <th>Q3</th>\n",
       "      <th>Q4</th>\n",
       "      <th>Q5</th>\n",
       "      <th>...</th>\n",
       "      <th>Q22</th>\n",
       "      <th>Q23</th>\n",
       "      <th>Q24</th>\n",
       "      <th>Q25</th>\n",
       "      <th>Q26</th>\n",
       "      <th>Q27</th>\n",
       "      <th>owns_mobile</th>\n",
       "      <th>Q28</th>\n",
       "      <th>target</th>\n",
       "      <th>Age</th>\n",
       "    </tr>\n",
       "  </thead>\n",
       "  <tbody>\n",
       "  </tbody>\n",
       "</table>\n",
       "<p>0 rows × 37 columns</p>\n",
       "</div>"
      ],
      "text/plain": [
       "Empty DataFrame\n",
       "Columns: [ID, country, region, population, age, Q1, Q2, Q3, Q4, Q5, Q6, Q7, Q8, Q9, Q10a, Q10b, Q11, Q12, Q13a, Q14, Q15, Q16, Q17a, Q17b, Q19, Q20, Q21, Q22, Q23, Q24, Q25, Q26, Q27, owns_mobile, Q28, target, Age]\n",
       "Index: []\n",
       "\n",
       "[0 rows x 37 columns]"
      ]
     },
     "execution_count": 16,
     "metadata": {},
     "output_type": "execute_result"
    }
   ],
   "source": [
    "all_data[all_data['age']>120]"
   ]
  },
  {
   "cell_type": "code",
   "execution_count": 17,
   "metadata": {
    "colab": {
     "base_uri": "https://localhost:8080/",
     "height": 489
    },
    "id": "yZcpqv5tUhWY",
    "outputId": "a97f71fd-3c02-4048-86fb-9c3aa19fe9d5"
   },
   "outputs": [
    {
     "data": {
      "text/html": [
       "<div>\n",
       "<style scoped>\n",
       "    .dataframe tbody tr th:only-of-type {\n",
       "        vertical-align: middle;\n",
       "    }\n",
       "\n",
       "    .dataframe tbody tr th {\n",
       "        vertical-align: top;\n",
       "    }\n",
       "\n",
       "    .dataframe thead th {\n",
       "        text-align: right;\n",
       "    }\n",
       "</style>\n",
       "<table border=\"1\" class=\"dataframe\">\n",
       "  <thead>\n",
       "    <tr style=\"text-align: right;\">\n",
       "      <th></th>\n",
       "      <th>Features</th>\n",
       "      <th>cardinality</th>\n",
       "    </tr>\n",
       "  </thead>\n",
       "  <tbody>\n",
       "    <tr>\n",
       "      <th>0</th>\n",
       "      <td>ID</td>\n",
       "      <td>104867</td>\n",
       "    </tr>\n",
       "    <tr>\n",
       "      <th>1</th>\n",
       "      <td>country</td>\n",
       "      <td>144</td>\n",
       "    </tr>\n",
       "    <tr>\n",
       "      <th>2</th>\n",
       "      <td>region</td>\n",
       "      <td>8</td>\n",
       "    </tr>\n",
       "    <tr>\n",
       "      <th>3</th>\n",
       "      <td>population</td>\n",
       "      <td>144</td>\n",
       "    </tr>\n",
       "    <tr>\n",
       "      <th>4</th>\n",
       "      <td>age</td>\n",
       "      <td>85</td>\n",
       "    </tr>\n",
       "    <tr>\n",
       "      <th>5</th>\n",
       "      <td>Q1</td>\n",
       "      <td>4</td>\n",
       "    </tr>\n",
       "    <tr>\n",
       "      <th>6</th>\n",
       "      <td>Q2</td>\n",
       "      <td>4</td>\n",
       "    </tr>\n",
       "    <tr>\n",
       "      <th>7</th>\n",
       "      <td>Q3</td>\n",
       "      <td>4</td>\n",
       "    </tr>\n",
       "    <tr>\n",
       "      <th>8</th>\n",
       "      <td>Q4</td>\n",
       "      <td>4</td>\n",
       "    </tr>\n",
       "    <tr>\n",
       "      <th>9</th>\n",
       "      <td>Q5</td>\n",
       "      <td>4</td>\n",
       "    </tr>\n",
       "    <tr>\n",
       "      <th>10</th>\n",
       "      <td>Q6</td>\n",
       "      <td>4</td>\n",
       "    </tr>\n",
       "    <tr>\n",
       "      <th>11</th>\n",
       "      <td>Q7</td>\n",
       "      <td>4</td>\n",
       "    </tr>\n",
       "    <tr>\n",
       "      <th>12</th>\n",
       "      <td>Q8</td>\n",
       "      <td>4</td>\n",
       "    </tr>\n",
       "    <tr>\n",
       "      <th>13</th>\n",
       "      <td>Q9</td>\n",
       "      <td>4</td>\n",
       "    </tr>\n",
       "    <tr>\n",
       "      <th>14</th>\n",
       "      <td>Q10a</td>\n",
       "      <td>4</td>\n",
       "    </tr>\n",
       "    <tr>\n",
       "      <th>15</th>\n",
       "      <td>Q10b</td>\n",
       "      <td>4</td>\n",
       "    </tr>\n",
       "    <tr>\n",
       "      <th>16</th>\n",
       "      <td>Q11</td>\n",
       "      <td>4</td>\n",
       "    </tr>\n",
       "    <tr>\n",
       "      <th>17</th>\n",
       "      <td>Q12</td>\n",
       "      <td>4</td>\n",
       "    </tr>\n",
       "    <tr>\n",
       "      <th>18</th>\n",
       "      <td>Q13a</td>\n",
       "      <td>4</td>\n",
       "    </tr>\n",
       "    <tr>\n",
       "      <th>19</th>\n",
       "      <td>Q14</td>\n",
       "      <td>4</td>\n",
       "    </tr>\n",
       "    <tr>\n",
       "      <th>20</th>\n",
       "      <td>Q15</td>\n",
       "      <td>4</td>\n",
       "    </tr>\n",
       "    <tr>\n",
       "      <th>21</th>\n",
       "      <td>Q16</td>\n",
       "      <td>4</td>\n",
       "    </tr>\n",
       "    <tr>\n",
       "      <th>22</th>\n",
       "      <td>Q17a</td>\n",
       "      <td>4</td>\n",
       "    </tr>\n",
       "    <tr>\n",
       "      <th>23</th>\n",
       "      <td>Q17b</td>\n",
       "      <td>4</td>\n",
       "    </tr>\n",
       "    <tr>\n",
       "      <th>24</th>\n",
       "      <td>Q19</td>\n",
       "      <td>4</td>\n",
       "    </tr>\n",
       "    <tr>\n",
       "      <th>25</th>\n",
       "      <td>Q20</td>\n",
       "      <td>4</td>\n",
       "    </tr>\n",
       "    <tr>\n",
       "      <th>26</th>\n",
       "      <td>Q21</td>\n",
       "      <td>4</td>\n",
       "    </tr>\n",
       "    <tr>\n",
       "      <th>27</th>\n",
       "      <td>Q22</td>\n",
       "      <td>4</td>\n",
       "    </tr>\n",
       "    <tr>\n",
       "      <th>28</th>\n",
       "      <td>Q23</td>\n",
       "      <td>4</td>\n",
       "    </tr>\n",
       "    <tr>\n",
       "      <th>29</th>\n",
       "      <td>Q24</td>\n",
       "      <td>4</td>\n",
       "    </tr>\n",
       "    <tr>\n",
       "      <th>30</th>\n",
       "      <td>Q25</td>\n",
       "      <td>4</td>\n",
       "    </tr>\n",
       "    <tr>\n",
       "      <th>31</th>\n",
       "      <td>Q26</td>\n",
       "      <td>4</td>\n",
       "    </tr>\n",
       "    <tr>\n",
       "      <th>32</th>\n",
       "      <td>Q27</td>\n",
       "      <td>4</td>\n",
       "    </tr>\n",
       "    <tr>\n",
       "      <th>33</th>\n",
       "      <td>owns_mobile</td>\n",
       "      <td>4</td>\n",
       "    </tr>\n",
       "    <tr>\n",
       "      <th>34</th>\n",
       "      <td>Q28</td>\n",
       "      <td>4</td>\n",
       "    </tr>\n",
       "    <tr>\n",
       "      <th>35</th>\n",
       "      <td>target</td>\n",
       "      <td>2</td>\n",
       "    </tr>\n",
       "  </tbody>\n",
       "</table>\n",
       "</div>"
      ],
      "text/plain": [
       "       Features  cardinality\n",
       "0            ID       104867\n",
       "1       country          144\n",
       "2        region            8\n",
       "3    population          144\n",
       "4           age           85\n",
       "5            Q1            4\n",
       "6            Q2            4\n",
       "7            Q3            4\n",
       "8            Q4            4\n",
       "9            Q5            4\n",
       "10           Q6            4\n",
       "11           Q7            4\n",
       "12           Q8            4\n",
       "13           Q9            4\n",
       "14         Q10a            4\n",
       "15         Q10b            4\n",
       "16          Q11            4\n",
       "17          Q12            4\n",
       "18         Q13a            4\n",
       "19          Q14            4\n",
       "20          Q15            4\n",
       "21          Q16            4\n",
       "22         Q17a            4\n",
       "23         Q17b            4\n",
       "24          Q19            4\n",
       "25          Q20            4\n",
       "26          Q21            4\n",
       "27          Q22            4\n",
       "28          Q23            4\n",
       "29          Q24            4\n",
       "30          Q25            4\n",
       "31          Q26            4\n",
       "32          Q27            4\n",
       "33  owns_mobile            4\n",
       "34          Q28            4\n",
       "35       target            2"
      ]
     },
     "execution_count": 17,
     "metadata": {},
     "output_type": "execute_result"
    }
   ],
   "source": [
    "cardinal"
   ]
  },
  {
   "cell_type": "markdown",
   "metadata": {
    "id": "opgdQ2Lm-WTc"
   },
   "source": [
    "# EDA"
   ]
  },
  {
   "cell_type": "code",
   "execution_count": 18,
   "metadata": {
    "colab": {
     "base_uri": "https://localhost:8080/",
     "height": 331
    },
    "id": "jwv4Fkp5VDtG",
    "outputId": "086e0f0e-fd8d-43e3-dd17-1bd64c38c4dc"
   },
   "outputs": [
    {
     "data": {
      "text/plain": [
       "<AxesSubplot:xlabel='Q1', ylabel='count'>"
      ]
     },
     "execution_count": 18,
     "metadata": {},
     "output_type": "execute_result"
    },
    {
     "data": {
      "image/png": "[encoded data removed]",
      "text/plain": [
       "<Figure size 1440x360 with 1 Axes>"
      ]
     },
     "metadata": {
      "needs_background": "light"
     },
     "output_type": "display_data"
    }
   ],
   "source": [
    "plt.figure(figsize=(20,5))\n",
    "sns.countplot(x='Q1',hue=\"target\",data=build_data)"
   ]
  },
  {
   "cell_type": "code",
   "execution_count": 19,
   "metadata": {
    "colab": {
     "base_uri": "https://localhost:8080/",
     "height": 333
    },
    "id": "tp30_C4UScxT",
    "outputId": "6f8db796-781f-4525-f205-0cb30d396a14"
   },
   "outputs": [
    {
     "data": {
      "text/plain": [
       "<AxesSubplot:xlabel='Q7', ylabel='count'>"
      ]
     },
     "execution_count": 19,
     "metadata": {},
     "output_type": "execute_result"
    },
    {
     "data": {
      "image/png": "[encoded data removed]",
      "text/plain": [
       "<Figure size 1440x360 with 1 Axes>"
      ]
     },
     "metadata": {
      "needs_background": "light"
     },
     "output_type": "display_data"
    }
   ],
   "source": [
    "plt.figure(figsize=(20,5))\n",
    "sns.countplot(x='Q7',hue=\"target\",data=build_data)"
   ]
  },
  {
   "cell_type": "code",
   "execution_count": 20,
   "metadata": {
    "colab": {
     "base_uri": "https://localhost:8080/",
     "height": 332
    },
    "id": "N3V63oMGTKt7",
    "outputId": "b14a8002-b553-46b1-a77a-a2c63c5ed196"
   },
   "outputs": [
    {
     "data": {
      "text/plain": [
       "<AxesSubplot:xlabel='Q28', ylabel='count'>"
      ]
     },
     "execution_count": 20,
     "metadata": {},
     "output_type": "execute_result"
    },
    {
     "data": {
      "image/png": "[encoded data removed]",
      "text/plain": [
       "<Figure size 1440x360 with 1 Axes>"
      ]
     },
     "metadata": {
      "needs_background": "light"
     },
     "output_type": "display_data"
    }
   ],
   "source": [
    "plt.figure(figsize=(20,5))\n",
    "sns.countplot(x='Q28',hue=\"target\",data=build_data)"
   ]
  },
  {
   "cell_type": "code",
   "execution_count": 21,
   "metadata": {
    "colab": {
     "base_uri": "https://localhost:8080/",
     "height": 283
    },
    "id": "VlwDCEhSU0Vn",
    "outputId": "dfdfe824-8a12-474b-b045-0a27217a8677"
   },
   "outputs": [
    {
     "data": {
      "text/plain": [
       "<AxesSubplot:>"
      ]
     },
     "execution_count": 21,
     "metadata": {},
     "output_type": "execute_result"
    },
    {
     "data": {
      "image/png": "[encoded data removed]",
      "text/plain": [
       "<Figure size 432x288 with 1 Axes>"
      ]
     },
     "metadata": {
      "needs_background": "light"
     },
     "output_type": "display_data"
    }
   ],
   "source": [
    "all_data['Age'].hist()"
   ]
  },
  {
   "cell_type": "code",
   "execution_count": 22,
   "metadata": {
    "id": "LE-TFLHIVZWW"
   },
   "outputs": [],
   "source": [
    "def crosstab(col, data):\n",
    "  return pd.crosstab(data[col],data['target'], normalize=True)"
   ]
  },
  {
   "cell_type": "code",
   "execution_count": 23,
   "metadata": {
    "colab": {
     "base_uri": "https://localhost:8080/"
    },
    "id": "xNuIX94oXsVb",
    "outputId": "8c5c7cd3-b5b3-4cae-a303-2db88993837d"
   },
   "outputs": [
    {
     "data": {
      "text/plain": [
       "Index(['ID', 'country', 'region', 'population', 'age', 'Q1', 'Q2', 'Q3', 'Q4',\n",
       "       'Q5', 'Q6', 'Q7', 'Q8', 'Q9', 'Q10a', 'Q10b', 'Q11', 'Q12', 'Q13a',\n",
       "       'Q14', 'Q15', 'Q16', 'Q17a', 'Q17b', 'Q19', 'Q20', 'Q21', 'Q22', 'Q23',\n",
       "       'Q24', 'Q25', 'Q26', 'Q27', 'owns_mobile', 'Q28', 'target', 'Age'],\n",
       "      dtype='object')"
      ]
     },
     "execution_count": 23,
     "metadata": {},
     "output_type": "execute_result"
    }
   ],
   "source": [
    "all_data.columns"
   ]
  },
  {
   "cell_type": "code",
   "execution_count": 24,
   "metadata": {
    "colab": {
     "base_uri": "https://localhost:8080/",
     "height": 332
    },
    "id": "4RIOyTfZXpLN",
    "outputId": "267b3679-8433-4a49-f4f3-d6607a33b462"
   },
   "outputs": [
    {
     "data": {
      "text/html": [
       "<div>\n",
       "<style scoped>\n",
       "    .dataframe tbody tr th:only-of-type {\n",
       "        vertical-align: middle;\n",
       "    }\n",
       "\n",
       "    .dataframe tbody tr th {\n",
       "        vertical-align: top;\n",
       "    }\n",
       "\n",
       "    .dataframe thead th {\n",
       "        text-align: right;\n",
       "    }\n",
       "</style>\n",
       "<table border=\"1\" class=\"dataframe\">\n",
       "  <thead>\n",
       "    <tr style=\"text-align: right;\">\n",
       "      <th>target</th>\n",
       "      <th>0</th>\n",
       "      <th>1</th>\n",
       "    </tr>\n",
       "    <tr>\n",
       "      <th>Q1</th>\n",
       "      <th></th>\n",
       "      <th></th>\n",
       "    </tr>\n",
       "  </thead>\n",
       "  <tbody>\n",
       "    <tr>\n",
       "      <th>1</th>\n",
       "      <td>0.125292</td>\n",
       "      <td>0.329770</td>\n",
       "    </tr>\n",
       "    <tr>\n",
       "      <th>2</th>\n",
       "      <td>0.287574</td>\n",
       "      <td>0.248438</td>\n",
       "    </tr>\n",
       "    <tr>\n",
       "      <th>3</th>\n",
       "      <td>0.004415</td>\n",
       "      <td>0.002374</td>\n",
       "    </tr>\n",
       "    <tr>\n",
       "      <th>4</th>\n",
       "      <td>0.000925</td>\n",
       "      <td>0.001211</td>\n",
       "    </tr>\n",
       "  </tbody>\n",
       "</table>\n",
       "</div>"
      ],
      "text/plain": [
       "target         0         1\n",
       "Q1                        \n",
       "1       0.125292  0.329770\n",
       "2       0.287574  0.248438\n",
       "3       0.004415  0.002374\n",
       "4       0.000925  0.001211"
      ]
     },
     "execution_count": 24,
     "metadata": {},
     "output_type": "execute_result"
    }
   ],
   "source": [
    "crosstab('Q1', build_data)"
   ]
  },
  {
   "cell_type": "code",
   "execution_count": 25,
   "metadata": {
    "colab": {
     "base_uri": "https://localhost:8080/",
     "height": 583
    },
    "id": "jdQ3Jxb4Xza6",
    "outputId": "bb243f35-99fa-4e52-c014-f475239bb26a"
   },
   "outputs": [
    {
     "data": {
      "text/html": [
       "<div>\n",
       "<style scoped>\n",
       "    .dataframe tbody tr th:only-of-type {\n",
       "        vertical-align: middle;\n",
       "    }\n",
       "\n",
       "    .dataframe tbody tr th {\n",
       "        vertical-align: top;\n",
       "    }\n",
       "\n",
       "    .dataframe thead th {\n",
       "        text-align: right;\n",
       "    }\n",
       "</style>\n",
       "<table border=\"1\" class=\"dataframe\">\n",
       "  <thead>\n",
       "    <tr style=\"text-align: right;\">\n",
       "      <th>target</th>\n",
       "      <th>0</th>\n",
       "      <th>1</th>\n",
       "    </tr>\n",
       "    <tr>\n",
       "      <th>country</th>\n",
       "      <th></th>\n",
       "      <th></th>\n",
       "    </tr>\n",
       "  </thead>\n",
       "  <tbody>\n",
       "    <tr>\n",
       "      <th>Afghanistan</th>\n",
       "      <td>0.002565</td>\n",
       "      <td>0.004062</td>\n",
       "    </tr>\n",
       "    <tr>\n",
       "      <th>Albania</th>\n",
       "      <td>0.003051</td>\n",
       "      <td>0.003557</td>\n",
       "    </tr>\n",
       "    <tr>\n",
       "      <th>Algeria</th>\n",
       "      <td>0.001774</td>\n",
       "      <td>0.004463</td>\n",
       "    </tr>\n",
       "    <tr>\n",
       "      <th>Argentina</th>\n",
       "      <td>0.004205</td>\n",
       "      <td>0.002355</td>\n",
       "    </tr>\n",
       "    <tr>\n",
       "      <th>Armenia</th>\n",
       "      <td>0.003652</td>\n",
       "      <td>0.002565</td>\n",
       "    </tr>\n",
       "    <tr>\n",
       "      <th>...</th>\n",
       "      <td>...</td>\n",
       "      <td>...</td>\n",
       "    </tr>\n",
       "    <tr>\n",
       "      <th>Venezuela, RB</th>\n",
       "      <td>0.003519</td>\n",
       "      <td>0.003099</td>\n",
       "    </tr>\n",
       "    <tr>\n",
       "      <th>Vietnam</th>\n",
       "      <td>0.001545</td>\n",
       "      <td>0.004644</td>\n",
       "    </tr>\n",
       "    <tr>\n",
       "      <th>West Bank and Gaza</th>\n",
       "      <td>0.002584</td>\n",
       "      <td>0.003910</td>\n",
       "    </tr>\n",
       "    <tr>\n",
       "      <th>Zambia</th>\n",
       "      <td>0.005502</td>\n",
       "      <td>0.001240</td>\n",
       "    </tr>\n",
       "    <tr>\n",
       "      <th>Zimbabwe</th>\n",
       "      <td>0.003404</td>\n",
       "      <td>0.002937</td>\n",
       "    </tr>\n",
       "  </tbody>\n",
       "</table>\n",
       "<p>144 rows × 2 columns</p>\n",
       "</div>"
      ],
      "text/plain": [
       "target                     0         1\n",
       "country                               \n",
       "Afghanistan         0.002565  0.004062\n",
       "Albania             0.003051  0.003557\n",
       "Algeria             0.001774  0.004463\n",
       "Argentina           0.004205  0.002355\n",
       "Armenia             0.003652  0.002565\n",
       "...                      ...       ...\n",
       "Venezuela, RB       0.003519  0.003099\n",
       "Vietnam             0.001545  0.004644\n",
       "West Bank and Gaza  0.002584  0.003910\n",
       "Zambia              0.005502  0.001240\n",
       "Zimbabwe            0.003404  0.002937\n",
       "\n",
       "[144 rows x 2 columns]"
      ]
     },
     "execution_count": 25,
     "metadata": {},
     "output_type": "execute_result"
    }
   ],
   "source": [
    "crosstab('country', build_data)"
   ]
  },
  {
   "cell_type": "code",
   "execution_count": 26,
   "metadata": {
    "colab": {
     "base_uri": "https://localhost:8080/",
     "height": 300
    },
    "id": "VLjDaGYgYBDz",
    "outputId": "ced0b7af-6f68-4f16-d4a9-59099dc15e0b"
   },
   "outputs": [
    {
     "data": {
      "text/html": [
       "<div>\n",
       "<style scoped>\n",
       "    .dataframe tbody tr th:only-of-type {\n",
       "        vertical-align: middle;\n",
       "    }\n",
       "\n",
       "    .dataframe tbody tr th {\n",
       "        vertical-align: top;\n",
       "    }\n",
       "\n",
       "    .dataframe thead th {\n",
       "        text-align: right;\n",
       "    }\n",
       "</style>\n",
       "<table border=\"1\" class=\"dataframe\">\n",
       "  <thead>\n",
       "    <tr style=\"text-align: right;\">\n",
       "      <th>target</th>\n",
       "      <th>0</th>\n",
       "      <th>1</th>\n",
       "    </tr>\n",
       "    <tr>\n",
       "      <th>Q23</th>\n",
       "      <th></th>\n",
       "      <th></th>\n",
       "    </tr>\n",
       "  </thead>\n",
       "  <tbody>\n",
       "    <tr>\n",
       "      <th>1.0</th>\n",
       "      <td>0.056413</td>\n",
       "      <td>0.203805</td>\n",
       "    </tr>\n",
       "    <tr>\n",
       "      <th>2.0</th>\n",
       "      <td>0.227142</td>\n",
       "      <td>0.508089</td>\n",
       "    </tr>\n",
       "    <tr>\n",
       "      <th>3.0</th>\n",
       "      <td>0.001277</td>\n",
       "      <td>0.001809</td>\n",
       "    </tr>\n",
       "    <tr>\n",
       "      <th>4.0</th>\n",
       "      <td>0.000585</td>\n",
       "      <td>0.000878</td>\n",
       "    </tr>\n",
       "  </tbody>\n",
       "</table>\n",
       "</div>"
      ],
      "text/plain": [
       "target         0         1\n",
       "Q23                       \n",
       "1.0     0.056413  0.203805\n",
       "2.0     0.227142  0.508089\n",
       "3.0     0.001277  0.001809\n",
       "4.0     0.000585  0.000878"
      ]
     },
     "execution_count": 26,
     "metadata": {},
     "output_type": "execute_result"
    }
   ],
   "source": [
    "crosstab('Q23', build_data)"
   ]
  },
  {
   "cell_type": "code",
   "execution_count": 27,
   "metadata": {
    "colab": {
     "base_uri": "https://localhost:8080/",
     "height": 455
    },
    "id": "6VBzfAu8Yg1g",
    "outputId": "494a6512-3cab-4449-f985-076e0ad6002b"
   },
   "outputs": [
    {
     "data": {
      "text/html": [
       "<div>\n",
       "<style scoped>\n",
       "    .dataframe tbody tr th:only-of-type {\n",
       "        vertical-align: middle;\n",
       "    }\n",
       "\n",
       "    .dataframe tbody tr th {\n",
       "        vertical-align: top;\n",
       "    }\n",
       "\n",
       "    .dataframe thead th {\n",
       "        text-align: right;\n",
       "    }\n",
       "</style>\n",
       "<table border=\"1\" class=\"dataframe\">\n",
       "  <thead>\n",
       "    <tr style=\"text-align: right;\">\n",
       "      <th>target</th>\n",
       "      <th>0</th>\n",
       "      <th>1</th>\n",
       "    </tr>\n",
       "    <tr>\n",
       "      <th>Q2</th>\n",
       "      <th></th>\n",
       "      <th></th>\n",
       "    </tr>\n",
       "  </thead>\n",
       "  <tbody>\n",
       "    <tr>\n",
       "      <th>1.0</th>\n",
       "      <td>0.254877</td>\n",
       "      <td>0.692588</td>\n",
       "    </tr>\n",
       "    <tr>\n",
       "      <th>2.0</th>\n",
       "      <td>0.017686</td>\n",
       "      <td>0.029128</td>\n",
       "    </tr>\n",
       "    <tr>\n",
       "      <th>3.0</th>\n",
       "      <td>0.002033</td>\n",
       "      <td>0.001865</td>\n",
       "    </tr>\n",
       "    <tr>\n",
       "      <th>4.0</th>\n",
       "      <td>0.000733</td>\n",
       "      <td>0.001090</td>\n",
       "    </tr>\n",
       "  </tbody>\n",
       "</table>\n",
       "</div>"
      ],
      "text/plain": [
       "target         0         1\n",
       "Q2                        \n",
       "1.0     0.254877  0.692588\n",
       "2.0     0.017686  0.029128\n",
       "3.0     0.002033  0.001865\n",
       "4.0     0.000733  0.001090"
      ]
     },
     "execution_count": 27,
     "metadata": {},
     "output_type": "execute_result"
    }
   ],
   "source": [
    "crosstab('Q2', build_data)"
   ]
  },
  {
   "cell_type": "markdown",
   "metadata": {
    "id": "ubfYaxFa-dkq"
   },
   "source": [
    "# Extract Date features"
   ]
  },
  {
   "cell_type": "code",
   "execution_count": 28,
   "metadata": {
    "id": "Xkg1kiLFjH3x"
   },
   "outputs": [],
   "source": [
    "#date_col = ['Policy Start Date', 'Policy End Date', 'First Transaction Date']"
   ]
  },
  {
   "cell_type": "code",
   "execution_count": 29,
   "metadata": {
    "id": "U7ReQliji_Na"
   },
   "outputs": [
    {
     "data": {
      "text/plain": [
       "\"'def extract_date_info(df,cols,):\\n    for feat in cols:\\n        df[feat +'_day'] = df[feat].dt.day\\n        df[feat +'_month'] = df[feat].dt.month\\n        df[feat +'_quarter'] = df[feat].dt.quarter\\n    df.drop(columns=date_col,axis=1,inplace=True)\""
      ]
     },
     "execution_count": 29,
     "metadata": {},
     "output_type": "execute_result"
    }
   ],
   "source": [
    "''''def extract_date_info(df,cols,):\n",
    "    for feat in cols:\n",
    "        df[feat +'_day'] = df[feat].dt.day\n",
    "        df[feat +'_month'] = df[feat].dt.month\n",
    "        df[feat +'_quarter'] = df[feat].dt.quarter\n",
    "    df.drop(columns=date_col,axis=1,inplace=True)'''"
   ]
  },
  {
   "cell_type": "code",
   "execution_count": 30,
   "metadata": {
    "id": "KP4f4yCWjAzx"
   },
   "outputs": [],
   "source": [
    "#extract_date_info(all_data,date_col)"
   ]
  },
  {
   "cell_type": "code",
   "execution_count": 31,
   "metadata": {
    "id": "9XGoVPwUc6cr"
   },
   "outputs": [],
   "source": [
    "all_data1 = all_data.copy()"
   ]
  },
  {
   "cell_type": "code",
   "execution_count": 32,
   "metadata": {
    "id": "FgkvitHrcDep"
   },
   "outputs": [],
   "source": [
    "cat_feat = all_data1.select_dtypes(exclude = np.number).columns\n",
    "num_feat = all_data1.select_dtypes(exclude = object).columns"
   ]
  },
  {
   "cell_type": "code",
   "execution_count": 33,
   "metadata": {
    "colab": {
     "base_uri": "https://localhost:8080/"
    },
    "id": "xPtRJZt0c0K6",
    "outputId": "09cc0cd9-90ae-46e8-b675-ef92afa59f1b"
   },
   "outputs": [
    {
     "data": {
      "text/plain": [
       "Index(['population', 'age', 'Q1', 'Q2', 'Q3', 'Q4', 'Q5', 'Q6', 'Q7', 'Q8',\n",
       "       'Q9', 'Q10a', 'Q10b', 'Q11', 'Q12', 'Q13a', 'Q14', 'Q15', 'Q16', 'Q17a',\n",
       "       'Q17b', 'Q19', 'Q20', 'Q21', 'Q22', 'Q23', 'Q24', 'Q25', 'Q26', 'Q27',\n",
       "       'owns_mobile', 'Q28', 'target', 'Age'],\n",
       "      dtype='object')"
      ]
     },
     "execution_count": 33,
     "metadata": {},
     "output_type": "execute_result"
    }
   ],
   "source": [
    "num_feat"
   ]
  },
  {
   "cell_type": "code",
   "execution_count": 34,
   "metadata": {},
   "outputs": [
    {
     "data": {
      "text/plain": [
       "Index(['ID', 'country', 'region'], dtype='object')"
      ]
     },
     "execution_count": 34,
     "metadata": {},
     "output_type": "execute_result"
    }
   ],
   "source": [
    "cat_feat"
   ]
  },
  {
   "cell_type": "markdown",
   "metadata": {
    "id": "y1IxsVrD-g7O"
   },
   "source": [
    "# Deal with missing values"
   ]
  },
  {
   "cell_type": "code",
   "execution_count": 35,
   "metadata": {
    "id": "RvybGOhVc2Bb"
   },
   "outputs": [],
   "source": [
    "for col in num_feat:\n",
    "  if col != 'target':\n",
    "    all_data1[col].fillna(-999, inplace = True)\n",
    "    \n",
    "    \n",
    "    \n",
    "for col in cat_feat:\n",
    "    all_data1[col].fillna('NONE', inplace = True)"
   ]
  },
  {
   "cell_type": "code",
   "execution_count": 36,
   "metadata": {
    "colab": {
     "base_uri": "https://localhost:8080/",
     "height": 198
    },
    "id": "1Mdk-_E1eLO8",
    "outputId": "ea410061-994d-41f9-d55c-c0c0a4948a9e"
   },
   "outputs": [
    {
     "data": {
      "text/html": [
       "<div>\n",
       "<style scoped>\n",
       "    .dataframe tbody tr th:only-of-type {\n",
       "        vertical-align: middle;\n",
       "    }\n",
       "\n",
       "    .dataframe tbody tr th {\n",
       "        vertical-align: top;\n",
       "    }\n",
       "\n",
       "    .dataframe thead th {\n",
       "        text-align: right;\n",
       "    }\n",
       "</style>\n",
       "<table border=\"1\" class=\"dataframe\">\n",
       "  <thead>\n",
       "    <tr style=\"text-align: right;\">\n",
       "      <th></th>\n",
       "      <th>ID</th>\n",
       "      <th>country</th>\n",
       "      <th>region</th>\n",
       "      <th>population</th>\n",
       "      <th>age</th>\n",
       "      <th>Q1</th>\n",
       "      <th>Q2</th>\n",
       "      <th>Q3</th>\n",
       "      <th>Q4</th>\n",
       "      <th>Q5</th>\n",
       "      <th>...</th>\n",
       "      <th>Q22</th>\n",
       "      <th>Q23</th>\n",
       "      <th>Q24</th>\n",
       "      <th>Q25</th>\n",
       "      <th>Q26</th>\n",
       "      <th>Q27</th>\n",
       "      <th>owns_mobile</th>\n",
       "      <th>Q28</th>\n",
       "      <th>target</th>\n",
       "      <th>Age</th>\n",
       "    </tr>\n",
       "  </thead>\n",
       "  <tbody>\n",
       "    <tr>\n",
       "      <th>0</th>\n",
       "      <td>ID_0000020532</td>\n",
       "      <td>Morocco</td>\n",
       "      <td>Middle East &amp; North Africa (excluding high inc...</td>\n",
       "      <td>25550170.0</td>\n",
       "      <td>66.0</td>\n",
       "      <td>2</td>\n",
       "      <td>-999.0</td>\n",
       "      <td>-999.0</td>\n",
       "      <td>-999.0</td>\n",
       "      <td>-999.0</td>\n",
       "      <td>...</td>\n",
       "      <td>2</td>\n",
       "      <td>-999.0</td>\n",
       "      <td>1</td>\n",
       "      <td>2</td>\n",
       "      <td>2.0</td>\n",
       "      <td>2.0</td>\n",
       "      <td>1.0</td>\n",
       "      <td>1.0</td>\n",
       "      <td>0.0</td>\n",
       "      <td>66.0</td>\n",
       "    </tr>\n",
       "    <tr>\n",
       "      <th>1</th>\n",
       "      <td>ID_0000075765</td>\n",
       "      <td>Lebanon</td>\n",
       "      <td>Middle East &amp; North Africa (excluding high inc...</td>\n",
       "      <td>4591023.0</td>\n",
       "      <td>44.0</td>\n",
       "      <td>2</td>\n",
       "      <td>-999.0</td>\n",
       "      <td>-999.0</td>\n",
       "      <td>2.0</td>\n",
       "      <td>2.0</td>\n",
       "      <td>...</td>\n",
       "      <td>2</td>\n",
       "      <td>-999.0</td>\n",
       "      <td>2</td>\n",
       "      <td>2</td>\n",
       "      <td>2.0</td>\n",
       "      <td>1.0</td>\n",
       "      <td>1.0</td>\n",
       "      <td>1.0</td>\n",
       "      <td>1.0</td>\n",
       "      <td>44.0</td>\n",
       "    </tr>\n",
       "    <tr>\n",
       "      <th>2</th>\n",
       "      <td>ID_0000085491</td>\n",
       "      <td>Morocco</td>\n",
       "      <td>Middle East &amp; North Africa (excluding high inc...</td>\n",
       "      <td>25550170.0</td>\n",
       "      <td>29.0</td>\n",
       "      <td>1</td>\n",
       "      <td>1.0</td>\n",
       "      <td>1.0</td>\n",
       "      <td>2.0</td>\n",
       "      <td>2.0</td>\n",
       "      <td>...</td>\n",
       "      <td>1</td>\n",
       "      <td>2.0</td>\n",
       "      <td>2</td>\n",
       "      <td>2</td>\n",
       "      <td>2.0</td>\n",
       "      <td>-999.0</td>\n",
       "      <td>1.0</td>\n",
       "      <td>1.0</td>\n",
       "      <td>0.0</td>\n",
       "      <td>29.0</td>\n",
       "    </tr>\n",
       "  </tbody>\n",
       "</table>\n",
       "<p>3 rows × 37 columns</p>\n",
       "</div>"
      ],
      "text/plain": [
       "              ID  country                                             region  \\\n",
       "0  ID_0000020532  Morocco  Middle East & North Africa (excluding high inc...   \n",
       "1  ID_0000075765  Lebanon  Middle East & North Africa (excluding high inc...   \n",
       "2  ID_0000085491  Morocco  Middle East & North Africa (excluding high inc...   \n",
       "\n",
       "   population   age  Q1     Q2     Q3     Q4     Q5  ...  Q22    Q23  Q24  \\\n",
       "0  25550170.0  66.0   2 -999.0 -999.0 -999.0 -999.0  ...    2 -999.0    1   \n",
       "1   4591023.0  44.0   2 -999.0 -999.0    2.0    2.0  ...    2 -999.0    2   \n",
       "2  25550170.0  29.0   1    1.0    1.0    2.0    2.0  ...    1    2.0    2   \n",
       "\n",
       "   Q25  Q26    Q27  owns_mobile  Q28  target   Age  \n",
       "0    2  2.0    2.0          1.0  1.0     0.0  66.0  \n",
       "1    2  2.0    1.0          1.0  1.0     1.0  44.0  \n",
       "2    2  2.0 -999.0          1.0  1.0     0.0  29.0  \n",
       "\n",
       "[3 rows x 37 columns]"
      ]
     },
     "execution_count": 36,
     "metadata": {},
     "output_type": "execute_result"
    }
   ],
   "source": [
    "all_data1.head(3)"
   ]
  },
  {
   "cell_type": "markdown",
   "metadata": {
    "id": "8M4QyeII-lW7"
   },
   "source": [
    "# Feature Engineering"
   ]
  },
  {
   "cell_type": "code",
   "execution_count": 37,
   "metadata": {
    "id": "pz2RKX6_eXYT"
   },
   "outputs": [],
   "source": [
    "all_data1['National_ID'] = all_data1['Q28'].map(all_data1['Q28'].value_counts().to_dict())\n",
    "all_data1['Region'] = all_data1['region'].map(all_data1['region'].value_counts().to_dict())"
   ]
  },
  {
   "cell_type": "code",
   "execution_count": 38,
   "metadata": {},
   "outputs": [],
   "source": [
    "all_data1['Use_internet'] = all_data1['Q10a'] + all_data1['Q10b']\n",
    "all_data1['merge'] = all_data1['Q26'] + all_data1['Q27']\n",
    "all_data1['Borrow'] = all_data1['Q17a'] + all_data1['Q17b']"
   ]
  },
  {
   "cell_type": "code",
   "execution_count": 39,
   "metadata": {
    "id": "rY4XjC8dfoDV"
   },
   "outputs": [],
   "source": [
    "#all_data1['Subject_Car_Make'] = all_data1['Subject_Car_Make'].map(all_data1['Subject_Car_Make'].value_counts().to_dict())\n",
    "#all_data1['Subject_Car_Colour'] = all_data1['Subject_Car_Colour'].map(all_data1['Subject_Car_Colour'].value_counts().to_dict())"
   ]
  },
  {
   "cell_type": "code",
   "execution_count": 40,
   "metadata": {
    "id": "4KJmv-fU-74w"
   },
   "outputs": [],
   "source": [
    "#mapper = {\"Male\":\"M\",\"Female\":'F','Entity':'O','Joint Gender':'O',None:'O','NO GENDER':'O','NOT STATED':'O','SEX':'O' }\n",
    "#all_data1.Gender = all_data.Gender.map(mapper)"
   ]
  },
  {
   "cell_type": "code",
   "execution_count": 41,
   "metadata": {
    "id": "nDYm6sUu_Lfc"
   },
   "outputs": [
    {
     "name": "stdout",
     "output_type": "stream",
     "text": [
      "<class 'pandas.core.frame.DataFrame'>\n",
      "RangeIndex: 149810 entries, 0 to 149809\n",
      "Data columns (total 37 columns):\n",
      " #   Column       Non-Null Count   Dtype  \n",
      "---  ------       --------------   -----  \n",
      " 0   ID           149810 non-null  object \n",
      " 1   country      149810 non-null  object \n",
      " 2   region       148830 non-null  object \n",
      " 3   population   149810 non-null  float64\n",
      " 4   age          149399 non-null  float64\n",
      " 5   Q1           149810 non-null  int64  \n",
      " 6   Q2           68137 non-null   float64\n",
      " 7   Q3           64562 non-null   float64\n",
      " 8   Q4           82004 non-null   float64\n",
      " 9   Q5           82004 non-null   float64\n",
      " 10  Q6           149810 non-null  int64  \n",
      " 11  Q7           29515 non-null   float64\n",
      " 12  Q8           84272 non-null   float64\n",
      " 13  Q9           84272 non-null   float64\n",
      " 14  Q10a         149810 non-null  int64  \n",
      " 15  Q10b         149810 non-null  int64  \n",
      " 16  Q11          149810 non-null  int64  \n",
      " 17  Q12          149810 non-null  int64  \n",
      " 18  Q13a         149810 non-null  int64  \n",
      " 19  Q14          149810 non-null  int64  \n",
      " 20  Q15          149810 non-null  int64  \n",
      " 21  Q16          149810 non-null  int64  \n",
      " 22  Q17a         149810 non-null  int64  \n",
      " 23  Q17b         149810 non-null  int64  \n",
      " 24  Q19          115206 non-null  float64\n",
      " 25  Q20          115206 non-null  float64\n",
      " 26  Q21          149810 non-null  int64  \n",
      " 27  Q22          149810 non-null  int64  \n",
      " 28  Q23          53580 non-null   float64\n",
      " 29  Q24          149810 non-null  int64  \n",
      " 30  Q25          149810 non-null  int64  \n",
      " 31  Q26          115206 non-null  float64\n",
      " 32  Q27          83535 non-null   float64\n",
      " 33  owns_mobile  149808 non-null  float64\n",
      " 34  Q28          105372 non-null  float64\n",
      " 35  target       104867 non-null  float64\n",
      " 36  Age          149399 non-null  float64\n",
      "dtypes: float64(18), int64(16), object(3)\n",
      "memory usage: 42.3+ MB\n"
     ]
    },
    {
     "data": {
      "text/html": [
       "<div>\n",
       "<style scoped>\n",
       "    .dataframe tbody tr th:only-of-type {\n",
       "        vertical-align: middle;\n",
       "    }\n",
       "\n",
       "    .dataframe tbody tr th {\n",
       "        vertical-align: top;\n",
       "    }\n",
       "\n",
       "    .dataframe thead th {\n",
       "        text-align: right;\n",
       "    }\n",
       "</style>\n",
       "<table border=\"1\" class=\"dataframe\">\n",
       "  <thead>\n",
       "    <tr style=\"text-align: right;\">\n",
       "      <th></th>\n",
       "      <th>ID</th>\n",
       "      <th>population</th>\n",
       "      <th>age</th>\n",
       "      <th>Q1</th>\n",
       "      <th>Q2</th>\n",
       "      <th>Q3</th>\n",
       "      <th>Q4</th>\n",
       "      <th>Q5</th>\n",
       "      <th>Q6</th>\n",
       "      <th>Q7</th>\n",
       "      <th>...</th>\n",
       "      <th>country_Zambia</th>\n",
       "      <th>country_Zimbabwe</th>\n",
       "      <th>region_East Asia &amp; Pacific (excluding high income)</th>\n",
       "      <th>region_Europe &amp; Central Asia (excluding high income)</th>\n",
       "      <th>region_High income: OECD</th>\n",
       "      <th>region_High income: nonOECD</th>\n",
       "      <th>region_Latin America &amp; Caribbean (excluding high income)</th>\n",
       "      <th>region_Middle East &amp; North Africa (excluding high income)</th>\n",
       "      <th>region_South Asia</th>\n",
       "      <th>region_Sub-Saharan Africa (excluding high income)</th>\n",
       "    </tr>\n",
       "  </thead>\n",
       "  <tbody>\n",
       "    <tr>\n",
       "      <th>0</th>\n",
       "      <td>ID_0000020532</td>\n",
       "      <td>25550170.0</td>\n",
       "      <td>66.0</td>\n",
       "      <td>2</td>\n",
       "      <td>NaN</td>\n",
       "      <td>NaN</td>\n",
       "      <td>NaN</td>\n",
       "      <td>NaN</td>\n",
       "      <td>2</td>\n",
       "      <td>NaN</td>\n",
       "      <td>...</td>\n",
       "      <td>0</td>\n",
       "      <td>0</td>\n",
       "      <td>0</td>\n",
       "      <td>0</td>\n",
       "      <td>0</td>\n",
       "      <td>0</td>\n",
       "      <td>0</td>\n",
       "      <td>1</td>\n",
       "      <td>0</td>\n",
       "      <td>0</td>\n",
       "    </tr>\n",
       "    <tr>\n",
       "      <th>1</th>\n",
       "      <td>ID_0000075765</td>\n",
       "      <td>4591023.0</td>\n",
       "      <td>44.0</td>\n",
       "      <td>2</td>\n",
       "      <td>NaN</td>\n",
       "      <td>NaN</td>\n",
       "      <td>2.0</td>\n",
       "      <td>2.0</td>\n",
       "      <td>2</td>\n",
       "      <td>NaN</td>\n",
       "      <td>...</td>\n",
       "      <td>0</td>\n",
       "      <td>0</td>\n",
       "      <td>0</td>\n",
       "      <td>0</td>\n",
       "      <td>0</td>\n",
       "      <td>0</td>\n",
       "      <td>0</td>\n",
       "      <td>1</td>\n",
       "      <td>0</td>\n",
       "      <td>0</td>\n",
       "    </tr>\n",
       "    <tr>\n",
       "      <th>2</th>\n",
       "      <td>ID_0000085491</td>\n",
       "      <td>25550170.0</td>\n",
       "      <td>29.0</td>\n",
       "      <td>1</td>\n",
       "      <td>1.0</td>\n",
       "      <td>1.0</td>\n",
       "      <td>2.0</td>\n",
       "      <td>2.0</td>\n",
       "      <td>2</td>\n",
       "      <td>NaN</td>\n",
       "      <td>...</td>\n",
       "      <td>0</td>\n",
       "      <td>0</td>\n",
       "      <td>0</td>\n",
       "      <td>0</td>\n",
       "      <td>0</td>\n",
       "      <td>0</td>\n",
       "      <td>0</td>\n",
       "      <td>1</td>\n",
       "      <td>0</td>\n",
       "      <td>0</td>\n",
       "    </tr>\n",
       "    <tr>\n",
       "      <th>3</th>\n",
       "      <td>ID_0000144505</td>\n",
       "      <td>30491168.0</td>\n",
       "      <td>44.0</td>\n",
       "      <td>1</td>\n",
       "      <td>1.0</td>\n",
       "      <td>1.0</td>\n",
       "      <td>1.0</td>\n",
       "      <td>1.0</td>\n",
       "      <td>2</td>\n",
       "      <td>NaN</td>\n",
       "      <td>...</td>\n",
       "      <td>0</td>\n",
       "      <td>0</td>\n",
       "      <td>0</td>\n",
       "      <td>0</td>\n",
       "      <td>1</td>\n",
       "      <td>0</td>\n",
       "      <td>0</td>\n",
       "      <td>0</td>\n",
       "      <td>0</td>\n",
       "      <td>0</td>\n",
       "    </tr>\n",
       "    <tr>\n",
       "      <th>4</th>\n",
       "      <td>ID_0000214184</td>\n",
       "      <td>93002320.0</td>\n",
       "      <td>36.0</td>\n",
       "      <td>2</td>\n",
       "      <td>NaN</td>\n",
       "      <td>NaN</td>\n",
       "      <td>NaN</td>\n",
       "      <td>NaN</td>\n",
       "      <td>2</td>\n",
       "      <td>NaN</td>\n",
       "      <td>...</td>\n",
       "      <td>0</td>\n",
       "      <td>0</td>\n",
       "      <td>0</td>\n",
       "      <td>0</td>\n",
       "      <td>0</td>\n",
       "      <td>0</td>\n",
       "      <td>1</td>\n",
       "      <td>0</td>\n",
       "      <td>0</td>\n",
       "      <td>0</td>\n",
       "    </tr>\n",
       "  </tbody>\n",
       "</table>\n",
       "<p>5 rows × 187 columns</p>\n",
       "</div>"
      ],
      "text/plain": [
       "              ID  population   age  Q1   Q2   Q3   Q4   Q5  Q6  Q7  ...  \\\n",
       "0  ID_0000020532  25550170.0  66.0   2  NaN  NaN  NaN  NaN   2 NaN  ...   \n",
       "1  ID_0000075765   4591023.0  44.0   2  NaN  NaN  2.0  2.0   2 NaN  ...   \n",
       "2  ID_0000085491  25550170.0  29.0   1  1.0  1.0  2.0  2.0   2 NaN  ...   \n",
       "3  ID_0000144505  30491168.0  44.0   1  1.0  1.0  1.0  1.0   2 NaN  ...   \n",
       "4  ID_0000214184  93002320.0  36.0   2  NaN  NaN  NaN  NaN   2 NaN  ...   \n",
       "\n",
       "   country_Zambia  country_Zimbabwe  \\\n",
       "0               0                 0   \n",
       "1               0                 0   \n",
       "2               0                 0   \n",
       "3               0                 0   \n",
       "4               0                 0   \n",
       "\n",
       "   region_East Asia & Pacific (excluding high income)  \\\n",
       "0                                                  0    \n",
       "1                                                  0    \n",
       "2                                                  0    \n",
       "3                                                  0    \n",
       "4                                                  0    \n",
       "\n",
       "   region_Europe & Central Asia (excluding high income)  \\\n",
       "0                                                  0      \n",
       "1                                                  0      \n",
       "2                                                  0      \n",
       "3                                                  0      \n",
       "4                                                  0      \n",
       "\n",
       "   region_High income: OECD  region_High income: nonOECD  \\\n",
       "0                         0                            0   \n",
       "1                         0                            0   \n",
       "2                         0                            0   \n",
       "3                         1                            0   \n",
       "4                         0                            0   \n",
       "\n",
       "   region_Latin America & Caribbean (excluding high income)  \\\n",
       "0                                                  0          \n",
       "1                                                  0          \n",
       "2                                                  0          \n",
       "3                                                  0          \n",
       "4                                                  1          \n",
       "\n",
       "   region_Middle East & North Africa (excluding high income)  \\\n",
       "0                                                  1           \n",
       "1                                                  1           \n",
       "2                                                  1           \n",
       "3                                                  0           \n",
       "4                                                  0           \n",
       "\n",
       "   region_South Asia  region_Sub-Saharan Africa (excluding high income)  \n",
       "0                  0                                                  0  \n",
       "1                  0                                                  0  \n",
       "2                  0                                                  0  \n",
       "3                  0                                                  0  \n",
       "4                  0                                                  0  \n",
       "\n",
       "[5 rows x 187 columns]"
      ]
     },
     "execution_count": 41,
     "metadata": {},
     "output_type": "execute_result"
    }
   ],
   "source": [
    "#encode categorical variable\n",
    "\n",
    "from sklearn.preprocessing import LabelEncoder\n",
    "for i in ['country', 'region']:\n",
    "  encoder = LabelEncoder()\n",
    "  all_data1[str(i)] = encoder.fit_transform(all_data1[str(i)])\n",
    "# Category columns\n",
    "cat_cols = ['country','region']\n",
    "num_cols = ['age', 'population']\n",
    "\n",
    "# Confirm whether the changes have been successful\n",
    "all_data.info()\n",
    "# encoding\n",
    "all_data = pd.get_dummies(data = all_data, columns = cat_cols)\n",
    "all_data.head()"
   ]
  },
  {
   "cell_type": "code",
   "execution_count": null,
   "metadata": {
    "id": "5IkNBkG2_WHS"
   },
   "outputs": [],
   "source": []
  },
  {
   "cell_type": "code",
   "execution_count": 42,
   "metadata": {
    "colab": {
     "base_uri": "https://localhost:8080/",
     "height": 261
    },
    "id": "Kvugx89vfC8-",
    "outputId": "dd01ebfc-c664-435e-b63d-ac9b114bf99d"
   },
   "outputs": [
    {
     "data": {
      "text/html": [
       "<div>\n",
       "<style scoped>\n",
       "    .dataframe tbody tr th:only-of-type {\n",
       "        vertical-align: middle;\n",
       "    }\n",
       "\n",
       "    .dataframe tbody tr th {\n",
       "        vertical-align: top;\n",
       "    }\n",
       "\n",
       "    .dataframe thead th {\n",
       "        text-align: right;\n",
       "    }\n",
       "</style>\n",
       "<table border=\"1\" class=\"dataframe\">\n",
       "  <thead>\n",
       "    <tr style=\"text-align: right;\">\n",
       "      <th></th>\n",
       "      <th>ID</th>\n",
       "      <th>country</th>\n",
       "      <th>region</th>\n",
       "      <th>population</th>\n",
       "      <th>age</th>\n",
       "      <th>Q1</th>\n",
       "      <th>Q2</th>\n",
       "      <th>Q3</th>\n",
       "      <th>Q4</th>\n",
       "      <th>Q5</th>\n",
       "      <th>...</th>\n",
       "      <th>Q27</th>\n",
       "      <th>owns_mobile</th>\n",
       "      <th>Q28</th>\n",
       "      <th>target</th>\n",
       "      <th>Age</th>\n",
       "      <th>National_ID</th>\n",
       "      <th>Region</th>\n",
       "      <th>Use_internet</th>\n",
       "      <th>merge</th>\n",
       "      <th>Borrow</th>\n",
       "    </tr>\n",
       "  </thead>\n",
       "  <tbody>\n",
       "    <tr>\n",
       "      <th>0</th>\n",
       "      <td>ID_0000020532</td>\n",
       "      <td>89</td>\n",
       "      <td>5</td>\n",
       "      <td>25550170.0</td>\n",
       "      <td>66.0</td>\n",
       "      <td>2</td>\n",
       "      <td>-999.0</td>\n",
       "      <td>-999.0</td>\n",
       "      <td>-999.0</td>\n",
       "      <td>-999.0</td>\n",
       "      <td>...</td>\n",
       "      <td>2.0</td>\n",
       "      <td>1.0</td>\n",
       "      <td>1.0</td>\n",
       "      <td>0.0</td>\n",
       "      <td>66.0</td>\n",
       "      <td>92441</td>\n",
       "      <td>13793</td>\n",
       "      <td>4</td>\n",
       "      <td>4.0</td>\n",
       "      <td>3</td>\n",
       "    </tr>\n",
       "    <tr>\n",
       "      <th>1</th>\n",
       "      <td>ID_0000075765</td>\n",
       "      <td>71</td>\n",
       "      <td>5</td>\n",
       "      <td>4591023.0</td>\n",
       "      <td>44.0</td>\n",
       "      <td>2</td>\n",
       "      <td>-999.0</td>\n",
       "      <td>-999.0</td>\n",
       "      <td>2.0</td>\n",
       "      <td>2.0</td>\n",
       "      <td>...</td>\n",
       "      <td>1.0</td>\n",
       "      <td>1.0</td>\n",
       "      <td>1.0</td>\n",
       "      <td>1.0</td>\n",
       "      <td>44.0</td>\n",
       "      <td>92441</td>\n",
       "      <td>13793</td>\n",
       "      <td>4</td>\n",
       "      <td>3.0</td>\n",
       "      <td>3</td>\n",
       "    </tr>\n",
       "    <tr>\n",
       "      <th>2</th>\n",
       "      <td>ID_0000085491</td>\n",
       "      <td>89</td>\n",
       "      <td>5</td>\n",
       "      <td>25550170.0</td>\n",
       "      <td>29.0</td>\n",
       "      <td>1</td>\n",
       "      <td>1.0</td>\n",
       "      <td>1.0</td>\n",
       "      <td>2.0</td>\n",
       "      <td>2.0</td>\n",
       "      <td>...</td>\n",
       "      <td>-999.0</td>\n",
       "      <td>1.0</td>\n",
       "      <td>1.0</td>\n",
       "      <td>0.0</td>\n",
       "      <td>29.0</td>\n",
       "      <td>92441</td>\n",
       "      <td>13793</td>\n",
       "      <td>4</td>\n",
       "      <td>-997.0</td>\n",
       "      <td>4</td>\n",
       "    </tr>\n",
       "    <tr>\n",
       "      <th>3</th>\n",
       "      <td>ID_0000144505</td>\n",
       "      <td>21</td>\n",
       "      <td>2</td>\n",
       "      <td>30491168.0</td>\n",
       "      <td>44.0</td>\n",
       "      <td>1</td>\n",
       "      <td>1.0</td>\n",
       "      <td>1.0</td>\n",
       "      <td>1.0</td>\n",
       "      <td>1.0</td>\n",
       "      <td>...</td>\n",
       "      <td>-999.0</td>\n",
       "      <td>1.0</td>\n",
       "      <td>-999.0</td>\n",
       "      <td>1.0</td>\n",
       "      <td>44.0</td>\n",
       "      <td>44438</td>\n",
       "      <td>30303</td>\n",
       "      <td>2</td>\n",
       "      <td>-1998.0</td>\n",
       "      <td>3</td>\n",
       "    </tr>\n",
       "    <tr>\n",
       "      <th>4</th>\n",
       "      <td>ID_0000214184</td>\n",
       "      <td>85</td>\n",
       "      <td>4</td>\n",
       "      <td>93002320.0</td>\n",
       "      <td>36.0</td>\n",
       "      <td>2</td>\n",
       "      <td>-999.0</td>\n",
       "      <td>-999.0</td>\n",
       "      <td>-999.0</td>\n",
       "      <td>-999.0</td>\n",
       "      <td>...</td>\n",
       "      <td>2.0</td>\n",
       "      <td>1.0</td>\n",
       "      <td>1.0</td>\n",
       "      <td>1.0</td>\n",
       "      <td>36.0</td>\n",
       "      <td>92441</td>\n",
       "      <td>16158</td>\n",
       "      <td>3</td>\n",
       "      <td>4.0</td>\n",
       "      <td>4</td>\n",
       "    </tr>\n",
       "  </tbody>\n",
       "</table>\n",
       "<p>5 rows × 42 columns</p>\n",
       "</div>"
      ],
      "text/plain": [
       "              ID  country  region  population   age  Q1     Q2     Q3     Q4  \\\n",
       "0  ID_0000020532       89       5  25550170.0  66.0   2 -999.0 -999.0 -999.0   \n",
       "1  ID_0000075765       71       5   4591023.0  44.0   2 -999.0 -999.0    2.0   \n",
       "2  ID_0000085491       89       5  25550170.0  29.0   1    1.0    1.0    2.0   \n",
       "3  ID_0000144505       21       2  30491168.0  44.0   1    1.0    1.0    1.0   \n",
       "4  ID_0000214184       85       4  93002320.0  36.0   2 -999.0 -999.0 -999.0   \n",
       "\n",
       "      Q5  ...    Q27  owns_mobile    Q28  target   Age  National_ID  Region  \\\n",
       "0 -999.0  ...    2.0          1.0    1.0     0.0  66.0        92441   13793   \n",
       "1    2.0  ...    1.0          1.0    1.0     1.0  44.0        92441   13793   \n",
       "2    2.0  ... -999.0          1.0    1.0     0.0  29.0        92441   13793   \n",
       "3    1.0  ... -999.0          1.0 -999.0     1.0  44.0        44438   30303   \n",
       "4 -999.0  ...    2.0          1.0    1.0     1.0  36.0        92441   16158   \n",
       "\n",
       "   Use_internet   merge  Borrow  \n",
       "0             4     4.0       3  \n",
       "1             4     3.0       3  \n",
       "2             4  -997.0       4  \n",
       "3             2 -1998.0       3  \n",
       "4             3     4.0       4  \n",
       "\n",
       "[5 rows x 42 columns]"
      ]
     },
     "execution_count": 42,
     "metadata": {},
     "output_type": "execute_result"
    }
   ],
   "source": [
    "all_data1.head()"
   ]
  },
  {
   "cell_type": "code",
   "execution_count": 43,
   "metadata": {
    "colab": {
     "base_uri": "https://localhost:8080/"
    },
    "id": "gG-QTdgnf0tG",
    "outputId": "a2cf9ab9-705d-41f0-9b60-a336329507f3"
   },
   "outputs": [
    {
     "name": "stdout",
     "output_type": "stream",
     "text": [
      "Are There still Missing value in data? : True\n",
      "ID               0.0\n",
      "country          0.0\n",
      "region           0.0\n",
      "population       0.0\n",
      "age              0.0\n",
      "Q1               0.0\n",
      "Q2               0.0\n",
      "Q3               0.0\n",
      "Q4               0.0\n",
      "Q5               0.0\n",
      "Q6               0.0\n",
      "Q7               0.0\n",
      "Q8               0.0\n",
      "Q9               0.0\n",
      "Q10a             0.0\n",
      "Q10b             0.0\n",
      "Q11              0.0\n",
      "Q12              0.0\n",
      "Q13a             0.0\n",
      "Q14              0.0\n",
      "Q15              0.0\n",
      "Q16              0.0\n",
      "Q17a             0.0\n",
      "Q17b             0.0\n",
      "Q19              0.0\n",
      "Q20              0.0\n",
      "Q21              0.0\n",
      "Q22              0.0\n",
      "Q23              0.0\n",
      "Q24              0.0\n",
      "Q25              0.0\n",
      "Q26              0.0\n",
      "Q27              0.0\n",
      "owns_mobile      0.0\n",
      "Q28              0.0\n",
      "target          30.0\n",
      "Age              0.0\n",
      "National_ID      0.0\n",
      "Region           0.0\n",
      "Use_internet     0.0\n",
      "merge            0.0\n",
      "Borrow           0.0\n",
      "dtype: float64\n"
     ]
    }
   ],
   "source": [
    "print(\"Are There still Missing value in data? :\",all_data1.isnull().any().any())\n",
    "print((all_data1.isnull().sum()/all_data1.shape[0])*100)"
   ]
  },
  {
   "cell_type": "code",
   "execution_count": 44,
   "metadata": {
    "id": "RAAUclcmggz3"
   },
   "outputs": [],
   "source": [
    "all_data1.drop(columns=['ID'],inplace=True)"
   ]
  },
  {
   "cell_type": "code",
   "execution_count": 45,
   "metadata": {
    "id": "-_3gCH1N_mlA"
   },
   "outputs": [],
   "source": [
    "all_data1=pd.get_dummies(all_data1)\n"
   ]
  },
  {
   "cell_type": "markdown",
   "metadata": {
    "id": "icef-yh_-quA"
   },
   "source": [
    "# Model training"
   ]
  },
  {
   "cell_type": "code",
   "execution_count": 46,
   "metadata": {
    "id": "admikkllg9Go"
   },
   "outputs": [],
   "source": [
    "#Get the new dataset\n",
    "train_n = all_data1[:ntrain].copy()\n",
    "test_n = all_data1[ntrain:].copy()"
   ]
  },
  {
   "cell_type": "code",
   "execution_count": 47,
   "metadata": {
    "id": "tn4g-BJnhA4F"
   },
   "outputs": [],
   "source": [
    "test_n.drop(\"target\",axis = 1,inplace = True)"
   ]
  },
  {
   "cell_type": "code",
   "execution_count": 48,
   "metadata": {
    "id": "wsGhEHLJhIrN"
   },
   "outputs": [],
   "source": [
    "X= train_n.drop(columns=['target'])\n",
    "y= train_n.target"
   ]
  },
  {
   "cell_type": "code",
   "execution_count": 49,
   "metadata": {
    "id": "GX3UAi9Hhf4X"
   },
   "outputs": [],
   "source": [
    "#pip install catboost"
   ]
  },
  {
   "cell_type": "code",
   "execution_count": 50,
   "metadata": {
    "id": "AWvlbRXxhi-s"
   },
   "outputs": [],
   "source": [
    "from catboost import CatBoostClassifier\n",
    "from sklearn.model_selection import StratifiedKFold, KFold, train_test_split"
   ]
  },
  {
   "cell_type": "code",
   "execution_count": 61,
   "metadata": {
    "id": "uWRSsLLBhNVQ"
   },
   "outputs": [],
   "source": [
    "X_train, X_test, y_train, y_test = train_test_split(X, y, test_size=0.1, random_state=44)"
   ]
  },
  {
   "cell_type": "code",
   "execution_count": 62,
   "metadata": {},
   "outputs": [],
   "source": [
    "from sklearn.preprocessing import StandardScaler\n",
    "sc = StandardScaler()\n",
    "X_train = sc.fit_transform(X_train)\n",
    "X_test = sc.transform(X_test)"
   ]
  },
  {
   "cell_type": "code",
   "execution_count": 63,
   "metadata": {
    "id": "eD9kZVRn__YL"
   },
   "outputs": [
    {
     "name": "stderr",
     "output_type": "stream",
     "text": [
      "C:\\Users\\Ajaxclopidia\\anaconda3\\lib\\site-packages\\sklearn\\utils\\validation.py:70: FutureWarning: Pass classes=[0. 1.], y=0         0.0\n",
      "1         1.0\n",
      "2         0.0\n",
      "3         1.0\n",
      "4         1.0\n",
      "         ... \n",
      "104862    0.0\n",
      "104863    1.0\n",
      "104864    0.0\n",
      "104865    1.0\n",
      "104866    0.0\n",
      "Name: target, Length: 104867, dtype: float64 as keyword args. From version 1.0 (renaming of 0.25) passing these as positional arguments will result in an error\n",
      "  warnings.warn(f\"Pass {args_msg} as keyword args. From version \"\n"
     ]
    }
   ],
   "source": [
    "from sklearn.utils import class_weight\n",
    "class_weight = dict(zip(np.unique(y), class_weight.compute_class_weight('balanced',\n",
    "                                                 np.unique(y),\n",
    "                                                 y))) "
   ]
  },
  {
   "cell_type": "markdown",
   "metadata": {
    "id": "p9PMd4XP-ulK"
   },
   "source": [
    "Using Catboost"
   ]
  },
  {
   "cell_type": "code",
   "execution_count": 64,
   "metadata": {
    "id": "vV5TtQyxhaWE"
   },
   "outputs": [],
   "source": [
    "model2=CatBoostClassifier(class_weights=class_weight, n_estimators=1000,eval_metric='AUC',max_depth=4,learning_rate=0.1,#reg_lambda=5,#5\n",
    "                              subsample=0.9,bootstrap_type='Bernoulli',#leaf_estimation_iterations=10,\n",
    "                    #l2_leaf_reg=5,#bagging_temperature=0.85,random_strength=100,\n",
    "                     use_best_model=True,allow_writing_files=False, metric_period=20)"
   ]
  },
  {
   "cell_type": "code",
   "execution_count": 65,
   "metadata": {
    "colab": {
     "base_uri": "https://localhost:8080/"
    },
    "id": "NaSuybW5hnNI",
    "outputId": "193b56db-c39f-43b5-8388-949e97bd4e7b"
   },
   "outputs": [
    {
     "name": "stdout",
     "output_type": "stream",
     "text": [
      "0:\ttest: 0.7219588\tbest: 0.7219588 (0)\ttotal: 37.4ms\tremaining: 37.3s\n",
      "20:\ttest: 0.7593164\tbest: 0.7593164 (20)\ttotal: 654ms\tremaining: 30.5s\n",
      "40:\ttest: 0.7716664\tbest: 0.7716664 (40)\ttotal: 1.27s\tremaining: 29.6s\n",
      "60:\ttest: 0.7790716\tbest: 0.7790716 (60)\ttotal: 1.86s\tremaining: 28.6s\n",
      "80:\ttest: 0.7836615\tbest: 0.7836615 (80)\ttotal: 2.47s\tremaining: 28s\n",
      "100:\ttest: 0.7871381\tbest: 0.7871381 (100)\ttotal: 3.09s\tremaining: 27.5s\n",
      "120:\ttest: 0.7899783\tbest: 0.7899783 (120)\ttotal: 3.72s\tremaining: 27s\n",
      "140:\ttest: 0.7930079\tbest: 0.7930079 (140)\ttotal: 4.33s\tremaining: 26.4s\n",
      "160:\ttest: 0.7950787\tbest: 0.7950787 (160)\ttotal: 4.92s\tremaining: 25.6s\n",
      "180:\ttest: 0.7962256\tbest: 0.7962256 (180)\ttotal: 5.55s\tremaining: 25.1s\n",
      "200:\ttest: 0.7976293\tbest: 0.7976293 (200)\ttotal: 6.15s\tremaining: 24.4s\n",
      "220:\ttest: 0.7987370\tbest: 0.7987370 (220)\ttotal: 6.74s\tremaining: 23.8s\n",
      "240:\ttest: 0.7994783\tbest: 0.7994783 (240)\ttotal: 7.38s\tremaining: 23.2s\n",
      "260:\ttest: 0.8000361\tbest: 0.8000361 (260)\ttotal: 7.97s\tremaining: 22.6s\n",
      "280:\ttest: 0.8003521\tbest: 0.8003521 (280)\ttotal: 8.61s\tremaining: 22s\n",
      "300:\ttest: 0.8008469\tbest: 0.8008469 (300)\ttotal: 9.22s\tremaining: 21.4s\n",
      "320:\ttest: 0.8012004\tbest: 0.8012004 (320)\ttotal: 9.93s\tremaining: 21s\n",
      "340:\ttest: 0.8015373\tbest: 0.8015373 (340)\ttotal: 10.6s\tremaining: 20.4s\n",
      "360:\ttest: 0.8019113\tbest: 0.8019113 (360)\ttotal: 11.2s\tremaining: 19.8s\n",
      "380:\ttest: 0.8022245\tbest: 0.8022245 (380)\ttotal: 11.9s\tremaining: 19.3s\n",
      "400:\ttest: 0.8024748\tbest: 0.8024748 (400)\ttotal: 12.5s\tremaining: 18.7s\n",
      "420:\ttest: 0.8027980\tbest: 0.8027980 (420)\ttotal: 13.1s\tremaining: 18.1s\n",
      "440:\ttest: 0.8029645\tbest: 0.8029645 (440)\ttotal: 13.8s\tremaining: 17.5s\n",
      "460:\ttest: 0.8031152\tbest: 0.8031152 (460)\ttotal: 14.6s\tremaining: 17s\n",
      "480:\ttest: 0.8032544\tbest: 0.8032544 (480)\ttotal: 15.3s\tremaining: 16.5s\n",
      "500:\ttest: 0.8034930\tbest: 0.8034930 (500)\ttotal: 15.9s\tremaining: 15.9s\n",
      "520:\ttest: 0.8035716\tbest: 0.8035716 (520)\ttotal: 16.6s\tremaining: 15.3s\n",
      "540:\ttest: 0.8036908\tbest: 0.8036908 (540)\ttotal: 17.3s\tremaining: 14.7s\n",
      "560:\ttest: 0.8038190\tbest: 0.8038190 (560)\ttotal: 17.9s\tremaining: 14s\n",
      "580:\ttest: 0.8039255\tbest: 0.8039255 (580)\ttotal: 18.6s\tremaining: 13.4s\n",
      "600:\ttest: 0.8041215\tbest: 0.8041215 (600)\ttotal: 19.2s\tremaining: 12.8s\n",
      "620:\ttest: 0.8041938\tbest: 0.8041938 (620)\ttotal: 19.8s\tremaining: 12.1s\n",
      "640:\ttest: 0.8042549\tbest: 0.8042549 (640)\ttotal: 20.5s\tremaining: 11.5s\n",
      "660:\ttest: 0.8044157\tbest: 0.8044157 (660)\ttotal: 21.1s\tremaining: 10.8s\n",
      "680:\ttest: 0.8045232\tbest: 0.8045232 (680)\ttotal: 21.7s\tremaining: 10.2s\n",
      "700:\ttest: 0.8045905\tbest: 0.8045905 (700)\ttotal: 22.3s\tremaining: 9.52s\n",
      "720:\ttest: 0.8046829\tbest: 0.8046829 (720)\ttotal: 22.9s\tremaining: 8.86s\n",
      "740:\ttest: 0.8048906\tbest: 0.8048906 (740)\ttotal: 23.5s\tremaining: 8.22s\n",
      "760:\ttest: 0.8048593\tbest: 0.8048906 (740)\ttotal: 24.2s\tremaining: 7.59s\n",
      "780:\ttest: 0.8048967\tbest: 0.8048967 (780)\ttotal: 24.8s\tremaining: 6.95s\n",
      "800:\ttest: 0.8050235\tbest: 0.8050235 (800)\ttotal: 25.4s\tremaining: 6.32s\n",
      "820:\ttest: 0.8051069\tbest: 0.8051069 (820)\ttotal: 26.1s\tremaining: 5.69s\n",
      "840:\ttest: 0.8051718\tbest: 0.8051718 (840)\ttotal: 26.7s\tremaining: 5.06s\n",
      "860:\ttest: 0.8052096\tbest: 0.8052096 (860)\ttotal: 27.5s\tremaining: 4.43s\n",
      "880:\ttest: 0.8051680\tbest: 0.8052096 (860)\ttotal: 28.1s\tremaining: 3.8s\n",
      "900:\ttest: 0.8051850\tbest: 0.8052096 (860)\ttotal: 28.7s\tremaining: 3.15s\n",
      "920:\ttest: 0.8052765\tbest: 0.8052765 (920)\ttotal: 29.4s\tremaining: 2.52s\n",
      "940:\ttest: 0.8053381\tbest: 0.8053381 (940)\ttotal: 30s\tremaining: 1.88s\n",
      "960:\ttest: 0.8052858\tbest: 0.8053381 (940)\ttotal: 30.7s\tremaining: 1.25s\n",
      "980:\ttest: 0.8052587\tbest: 0.8053381 (940)\ttotal: 31.4s\tremaining: 607ms\n",
      "999:\ttest: 0.8053154\tbest: 0.8053381 (940)\ttotal: 32s\tremaining: 0us\n",
      "\n",
      "bestTest = 0.8053381498\n",
      "bestIteration = 940\n",
      "\n",
      "Shrink model to first 941 iterations.\n"
     ]
    },
    {
     "data": {
      "text/plain": [
       "<catboost.core.CatBoostClassifier at 0x198dc19aa60>"
      ]
     },
     "execution_count": 65,
     "metadata": {},
     "output_type": "execute_result"
    }
   ],
   "source": [
    "model2.fit(X_train, y_train, eval_set=(X_test, y_test))"
   ]
  },
  {
   "cell_type": "markdown",
   "metadata": {
    "id": "kI0PIvZN-yFQ"
   },
   "source": [
    "Using xgboost"
   ]
  },
  {
   "cell_type": "code",
   "execution_count": 66,
   "metadata": {},
   "outputs": [],
   "source": [
    "from sklearn.metrics import auc, classification_report, roc_auc_score"
   ]
  },
  {
   "cell_type": "code",
   "execution_count": 67,
   "metadata": {},
   "outputs": [
    {
     "name": "stdout",
     "output_type": "stream",
     "text": [
      "catboost AUC score on the X_test is: 0.8053381497537868\n",
      "\n",
      "              precision    recall  f1-score   support\n",
      "\n",
      "         0.0       0.65      0.76      0.70      4467\n",
      "         1.0       0.79      0.70      0.74      6020\n",
      "\n",
      "    accuracy                           0.72     10487\n",
      "   macro avg       0.72      0.73      0.72     10487\n",
      "weighted avg       0.73      0.72      0.73     10487\n",
      "\n"
     ]
    }
   ],
   "source": [
    "# Make predictions\n",
    "y_pred = model2.predict_proba(X_test)[:, 1]\n",
    "\n",
    "# Check the auc score of the model\n",
    "print(f'catboost AUC score on the X_test is: {roc_auc_score(y_test, y_pred)}\\n')\n",
    "\n",
    "# print classification report\n",
    "print(classification_report(y_test, [1 if x >= 0.5 else 0 for x in y_pred]))"
   ]
  },
  {
   "cell_type": "code",
   "execution_count": 68,
   "metadata": {},
   "outputs": [
    {
     "name": "stderr",
     "output_type": "stream",
     "text": [
      "C:\\Users\\Ajaxclopidia\\anaconda3\\lib\\site-packages\\seaborn\\_decorators.py:36: FutureWarning: Pass the following variable as a keyword arg: x. From version 0.12, the only valid positional argument will be `data`, and passing other arguments without an explicit keyword will result in an error or misinterpretation.\n",
      "  warnings.warn(\n"
     ]
    },
    {
     "data": {
      "image/png": "[encoded data removed]",
      "text/plain": [
       "<Figure size 432x288 with 1 Axes>"
      ]
     },
     "metadata": {
      "needs_background": "light"
     },
     "output_type": "display_data"
    }
   ],
   "source": [
    "# Make prediction on the test set\n",
    "test_df = test_n\n",
    "predictions = model2.predict_proba(test_df)[:, 1]\n",
    "\n",
    "# # Create a submission file\n",
    "ss = pd.read_csv('SampleSubmission.csv')\n",
    "sub_file = ss.copy()\n",
    "#sub_file = samplesubmission.copy()\n",
    "sub_file.target = predictions\n",
    "\n",
    "# # Check the distribution of your predictions\n",
    "sns.countplot([1 if x >= 0.5 else 0 for x in sub_file.target])\n",
    "plt.title('Predicted Variable Distribution');"
   ]
  },
  {
   "cell_type": "code",
   "execution_count": 69,
   "metadata": {},
   "outputs": [
    {
     "data": {
      "text/html": [
       "<div>\n",
       "<style scoped>\n",
       "    .dataframe tbody tr th:only-of-type {\n",
       "        vertical-align: middle;\n",
       "    }\n",
       "\n",
       "    .dataframe tbody tr th {\n",
       "        vertical-align: top;\n",
       "    }\n",
       "\n",
       "    .dataframe thead th {\n",
       "        text-align: right;\n",
       "    }\n",
       "</style>\n",
       "<table border=\"1\" class=\"dataframe\">\n",
       "  <thead>\n",
       "    <tr style=\"text-align: right;\">\n",
       "      <th></th>\n",
       "      <th>ID</th>\n",
       "      <th>target</th>\n",
       "    </tr>\n",
       "  </thead>\n",
       "  <tbody>\n",
       "    <tr>\n",
       "      <th>0</th>\n",
       "      <td>ID_0000005111</td>\n",
       "      <td>0.244146</td>\n",
       "    </tr>\n",
       "    <tr>\n",
       "      <th>1</th>\n",
       "      <td>ID_0000389416</td>\n",
       "      <td>0.042188</td>\n",
       "    </tr>\n",
       "    <tr>\n",
       "      <th>2</th>\n",
       "      <td>ID_0000634789</td>\n",
       "      <td>0.043142</td>\n",
       "    </tr>\n",
       "    <tr>\n",
       "      <th>3</th>\n",
       "      <td>ID_0000778100</td>\n",
       "      <td>0.465844</td>\n",
       "    </tr>\n",
       "    <tr>\n",
       "      <th>4</th>\n",
       "      <td>ID_0001123210</td>\n",
       "      <td>0.091822</td>\n",
       "    </tr>\n",
       "  </tbody>\n",
       "</table>\n",
       "</div>"
      ],
      "text/plain": [
       "              ID    target\n",
       "0  ID_0000005111  0.244146\n",
       "1  ID_0000389416  0.042188\n",
       "2  ID_0000634789  0.043142\n",
       "3  ID_0000778100  0.465844\n",
       "4  ID_0001123210  0.091822"
      ]
     },
     "execution_count": 69,
     "metadata": {},
     "output_type": "execute_result"
    }
   ],
   "source": [
    "# Create a csv file and upload to zindi \n",
    "sub_file.to_csv('Baseline_4.csv', index = False)\n",
    "sub_file.head()"
   ]
  },
  {
   "cell_type": "code",
   "execution_count": 70,
   "metadata": {},
   "outputs": [],
   "source": [
    "from lightgbm import LGBMClassifier"
   ]
  },
  {
   "cell_type": "code",
   "execution_count": 71,
   "metadata": {},
   "outputs": [],
   "source": [
    "from imblearn.over_sampling import SMOTE"
   ]
  },
  {
   "cell_type": "code",
   "execution_count": 72,
   "metadata": {},
   "outputs": [],
   "source": [
    "X_resample, y_resample = SMOTE().fit_resample(X,y.ravel())"
   ]
  },
  {
   "cell_type": "code",
   "execution_count": 73,
   "metadata": {},
   "outputs": [],
   "source": [
    "y_resample = pd.DataFrame(y_resample)\n",
    "X_resample = pd.DataFrame(X_resample)"
   ]
  },
  {
   "cell_type": "code",
   "execution_count": 74,
   "metadata": {},
   "outputs": [],
   "source": [
    "X_train, X_test, y_train, y_test = train_test_split(X_resample,y_resample,test_size=0.3)"
   ]
  },
  {
   "cell_type": "code",
   "execution_count": 75,
   "metadata": {},
   "outputs": [],
   "source": [
    "X_train = np.array(X_train)\n",
    "X_test = np.array(X_test)\n",
    "y_train = np.array(y_train)\n",
    "y_test = np.array(y_test)"
   ]
  },
  {
   "cell_type": "code",
   "execution_count": 76,
   "metadata": {},
   "outputs": [],
   "source": [
    "model2=CatBoostClassifier(class_weights=class_weight, n_estimators=800,eval_metric='AUC',max_depth=4,learning_rate=0.1,#reg_lambda=5,#5\n",
    "                              subsample=0.9,bootstrap_type='Bernoulli',#leaf_estimation_iterations=10,\n",
    "                    #l2_leaf_reg=5,#bagging_temperature=0.85,random_strength=100,\n",
    "                     use_best_model=True,allow_writing_files=False, metric_period=20)"
   ]
  },
  {
   "cell_type": "code",
   "execution_count": 77,
   "metadata": {},
   "outputs": [
    {
     "name": "stdout",
     "output_type": "stream",
     "text": [
      "0:\ttest: 0.7118538\tbest: 0.7118538 (0)\ttotal: 453ms\tremaining: 6m 2s\n",
      "20:\ttest: 0.7811663\tbest: 0.7811663 (20)\ttotal: 1.16s\tremaining: 43.1s\n",
      "40:\ttest: 0.8003903\tbest: 0.8003903 (40)\ttotal: 1.89s\tremaining: 34.9s\n",
      "60:\ttest: 0.8102195\tbest: 0.8102195 (60)\ttotal: 2.9s\tremaining: 35.1s\n",
      "80:\ttest: 0.8163752\tbest: 0.8163752 (80)\ttotal: 3.59s\tremaining: 31.9s\n",
      "100:\ttest: 0.8207090\tbest: 0.8207090 (100)\ttotal: 4.23s\tremaining: 29.3s\n",
      "120:\ttest: 0.8241647\tbest: 0.8241647 (120)\ttotal: 4.83s\tremaining: 27.1s\n",
      "140:\ttest: 0.8273286\tbest: 0.8273286 (140)\ttotal: 5.47s\tremaining: 25.6s\n",
      "160:\ttest: 0.8293247\tbest: 0.8293247 (160)\ttotal: 6.11s\tremaining: 24.3s\n",
      "180:\ttest: 0.8315332\tbest: 0.8315332 (180)\ttotal: 6.75s\tremaining: 23.1s\n",
      "200:\ttest: 0.8326560\tbest: 0.8326560 (200)\ttotal: 7.34s\tremaining: 21.9s\n",
      "220:\ttest: 0.8336703\tbest: 0.8336703 (220)\ttotal: 7.98s\tremaining: 20.9s\n",
      "240:\ttest: 0.8344668\tbest: 0.8344668 (240)\ttotal: 8.56s\tremaining: 19.9s\n",
      "260:\ttest: 0.8353004\tbest: 0.8353004 (260)\ttotal: 9.19s\tremaining: 19s\n",
      "280:\ttest: 0.8358989\tbest: 0.8358989 (280)\ttotal: 9.83s\tremaining: 18.2s\n",
      "300:\ttest: 0.8363900\tbest: 0.8363900 (300)\ttotal: 10.5s\tremaining: 17.3s\n",
      "320:\ttest: 0.8367595\tbest: 0.8367595 (320)\ttotal: 11.1s\tremaining: 16.6s\n",
      "340:\ttest: 0.8375504\tbest: 0.8375504 (340)\ttotal: 11.8s\tremaining: 15.8s\n",
      "360:\ttest: 0.8378929\tbest: 0.8378929 (360)\ttotal: 12.4s\tremaining: 15.1s\n",
      "380:\ttest: 0.8382268\tbest: 0.8382268 (380)\ttotal: 13.1s\tremaining: 14.4s\n",
      "400:\ttest: 0.8386208\tbest: 0.8386208 (400)\ttotal: 13.7s\tremaining: 13.7s\n",
      "420:\ttest: 0.8390803\tbest: 0.8390803 (420)\ttotal: 14.4s\tremaining: 12.9s\n",
      "440:\ttest: 0.8393490\tbest: 0.8393490 (440)\ttotal: 15s\tremaining: 12.2s\n",
      "460:\ttest: 0.8397118\tbest: 0.8397118 (460)\ttotal: 15.7s\tremaining: 11.5s\n",
      "480:\ttest: 0.8398720\tbest: 0.8398720 (480)\ttotal: 16.3s\tremaining: 10.8s\n",
      "500:\ttest: 0.8400028\tbest: 0.8400028 (500)\ttotal: 16.9s\tremaining: 10.1s\n",
      "520:\ttest: 0.8402721\tbest: 0.8402721 (520)\ttotal: 17.6s\tremaining: 9.4s\n",
      "540:\ttest: 0.8404843\tbest: 0.8404843 (540)\ttotal: 18.2s\tremaining: 8.7s\n",
      "560:\ttest: 0.8407043\tbest: 0.8407043 (560)\ttotal: 18.8s\tremaining: 8.02s\n",
      "580:\ttest: 0.8408052\tbest: 0.8408052 (580)\ttotal: 19.5s\tremaining: 7.36s\n",
      "600:\ttest: 0.8409365\tbest: 0.8409365 (600)\ttotal: 20.2s\tremaining: 6.68s\n",
      "620:\ttest: 0.8411507\tbest: 0.8411507 (620)\ttotal: 20.8s\tremaining: 6s\n",
      "640:\ttest: 0.8414009\tbest: 0.8414009 (640)\ttotal: 21.5s\tremaining: 5.33s\n",
      "660:\ttest: 0.8415934\tbest: 0.8415934 (660)\ttotal: 22.2s\tremaining: 4.66s\n",
      "680:\ttest: 0.8417673\tbest: 0.8417673 (680)\ttotal: 22.8s\tremaining: 3.98s\n",
      "700:\ttest: 0.8417907\tbest: 0.8417907 (700)\ttotal: 23.5s\tremaining: 3.31s\n",
      "720:\ttest: 0.8418930\tbest: 0.8418930 (720)\ttotal: 24.1s\tremaining: 2.64s\n",
      "740:\ttest: 0.8420228\tbest: 0.8420228 (740)\ttotal: 24.8s\tremaining: 1.97s\n",
      "760:\ttest: 0.8421581\tbest: 0.8421581 (760)\ttotal: 25.4s\tremaining: 1.3s\n",
      "780:\ttest: 0.8423091\tbest: 0.8423091 (780)\ttotal: 26.1s\tremaining: 634ms\n",
      "799:\ttest: 0.8425696\tbest: 0.8425696 (799)\ttotal: 26.7s\tremaining: 0us\n",
      "\n",
      "bestTest = 0.8425696134\n",
      "bestIteration = 799\n",
      "\n"
     ]
    },
    {
     "data": {
      "text/plain": [
       "<catboost.core.CatBoostClassifier at 0x198e025bfd0>"
      ]
     },
     "execution_count": 77,
     "metadata": {},
     "output_type": "execute_result"
    }
   ],
   "source": [
    "model2.fit(X_train, y_train, eval_set=(X_test, y_test))"
   ]
  },
  {
   "cell_type": "code",
   "execution_count": 78,
   "metadata": {},
   "outputs": [
    {
     "name": "stdout",
     "output_type": "stream",
     "text": [
      "catboost AUC score on the X_test is: 0.8425696134041635\n",
      "\n",
      "              precision    recall  f1-score   support\n",
      "\n",
      "         0.0       0.71      0.83      0.77     18234\n",
      "         1.0       0.80      0.67      0.73     18373\n",
      "\n",
      "    accuracy                           0.75     36607\n",
      "   macro avg       0.76      0.75      0.75     36607\n",
      "weighted avg       0.76      0.75      0.75     36607\n",
      "\n"
     ]
    }
   ],
   "source": [
    "# Make predictions\n",
    "y_pred = model2.predict_proba(X_test)[:, 1]\n",
    "\n",
    "# Check the auc score of the model\n",
    "print(f'catboost AUC score on the X_test is: {roc_auc_score(y_test, y_pred)}\\n')\n",
    "\n",
    "# print classification report\n",
    "print(classification_report(y_test, [1 if x >= 0.5 else 0 for x in y_pred]))"
   ]
  },
  {
   "cell_type": "code",
   "execution_count": 79,
   "metadata": {},
   "outputs": [
    {
     "name": "stderr",
     "output_type": "stream",
     "text": [
      "C:\\Users\\Ajaxclopidia\\anaconda3\\lib\\site-packages\\seaborn\\_decorators.py:36: FutureWarning: Pass the following variable as a keyword arg: x. From version 0.12, the only valid positional argument will be `data`, and passing other arguments without an explicit keyword will result in an error or misinterpretation.\n",
      "  warnings.warn(\n"
     ]
    },
    {
     "data": {
      "image/png": "[encoded data removed]",
      "text/plain": [
       "<Figure size 432x288 with 1 Axes>"
      ]
     },
     "metadata": {
      "needs_background": "light"
     },
     "output_type": "display_data"
    }
   ],
   "source": [
    "# Make prediction on the test set\n",
    "test_df = test_n\n",
    "predictions = model2.predict_proba(test_df)[:, 1]\n",
    "\n",
    "# # Create a submission file\n",
    "ss = pd.read_csv('SampleSubmission.csv')\n",
    "sub_file = ss.copy()\n",
    "#sub_file = samplesubmission.copy()\n",
    "sub_file.target = predictions\n",
    "\n",
    "# # Check the distribution of your predictions\n",
    "sns.countplot([1 if x >= 0.5 else 0 for x in sub_file.target])\n",
    "plt.title('Predicted Variable Distribution');"
   ]
  },
  {
   "cell_type": "code",
   "execution_count": 80,
   "metadata": {},
   "outputs": [
    {
     "data": {
      "text/html": [
       "<div>\n",
       "<style scoped>\n",
       "    .dataframe tbody tr th:only-of-type {\n",
       "        vertical-align: middle;\n",
       "    }\n",
       "\n",
       "    .dataframe tbody tr th {\n",
       "        vertical-align: top;\n",
       "    }\n",
       "\n",
       "    .dataframe thead th {\n",
       "        text-align: right;\n",
       "    }\n",
       "</style>\n",
       "<table border=\"1\" class=\"dataframe\">\n",
       "  <thead>\n",
       "    <tr style=\"text-align: right;\">\n",
       "      <th></th>\n",
       "      <th>ID</th>\n",
       "      <th>target</th>\n",
       "    </tr>\n",
       "  </thead>\n",
       "  <tbody>\n",
       "    <tr>\n",
       "      <th>0</th>\n",
       "      <td>ID_0000005111</td>\n",
       "      <td>0.724708</td>\n",
       "    </tr>\n",
       "    <tr>\n",
       "      <th>1</th>\n",
       "      <td>ID_0000389416</td>\n",
       "      <td>0.225321</td>\n",
       "    </tr>\n",
       "    <tr>\n",
       "      <th>2</th>\n",
       "      <td>ID_0000634789</td>\n",
       "      <td>0.370925</td>\n",
       "    </tr>\n",
       "    <tr>\n",
       "      <th>3</th>\n",
       "      <td>ID_0000778100</td>\n",
       "      <td>0.962721</td>\n",
       "    </tr>\n",
       "    <tr>\n",
       "      <th>4</th>\n",
       "      <td>ID_0001123210</td>\n",
       "      <td>0.451296</td>\n",
       "    </tr>\n",
       "  </tbody>\n",
       "</table>\n",
       "</div>"
      ],
      "text/plain": [
       "              ID    target\n",
       "0  ID_0000005111  0.724708\n",
       "1  ID_0000389416  0.225321\n",
       "2  ID_0000634789  0.370925\n",
       "3  ID_0000778100  0.962721\n",
       "4  ID_0001123210  0.451296"
      ]
     },
     "execution_count": 80,
     "metadata": {},
     "output_type": "execute_result"
    }
   ],
   "source": [
    "# Create a csv file and upload to zindi \n",
    "sub_file.to_csv('Baseline_5.csv', index = False)\n",
    "sub_file.head()"
   ]
  },
  {
   "cell_type": "code",
   "execution_count": null,
   "metadata": {},
   "outputs": [],
   "source": []
  },
  {
   "cell_type": "code",
   "execution_count": null,
   "metadata": {},
   "outputs": [],
   "source": []
  },
  {
   "cell_type": "code",
   "execution_count": null,
   "metadata": {},
   "outputs": [],
   "source": []
  },
  {
   "cell_type": "code",
   "execution_count": null,
   "metadata": {},
   "outputs": [],
   "source": [
    "X = np.nan_to_num(X_train)\n",
    "y = np.nan_to_num(y_train)\n",
    "X = np.nan_to_num(X_test)\n",
    "y = np.nan_to_num(y_test)"
   ]
  },
  {
   "cell_type": "code",
   "execution_count": 81,
   "metadata": {},
   "outputs": [
    {
     "name": "stderr",
     "output_type": "stream",
     "text": [
      "C:\\Users\\Ajaxclopidia\\anaconda3\\lib\\site-packages\\sklearn\\utils\\validation.py:63: DataConversionWarning: A column-vector y was passed when a 1d array was expected. Please change the shape of y to (n_samples, ), for example using ravel().\n",
      "  return f(*args, **kwargs)\n"
     ]
    },
    {
     "name": "stdout",
     "output_type": "stream",
     "text": [
      "LGBM AUC score on the X_test is: 0.8379867249561764\n",
      "\n",
      "              precision    recall  f1-score   support\n",
      "\n",
      "         0.0       0.74      0.76      0.75     18234\n",
      "         1.0       0.76      0.74      0.75     18373\n",
      "\n",
      "    accuracy                           0.75     36607\n",
      "   macro avg       0.75      0.75      0.75     36607\n",
      "weighted avg       0.75      0.75      0.75     36607\n",
      "\n"
     ]
    }
   ],
   "source": [
    "# Train model\n",
    "model = LGBMClassifier()\n",
    "model.fit(X_train, y_train)\n",
    "\n",
    "# Make predictions\n",
    "y_pred = model.predict_proba(X_test)[:, 1]\n",
    "\n",
    "# Check the auc score of the model\n",
    "print(f'LGBM AUC score on the X_test is: {roc_auc_score(y_test, y_pred)}\\n')\n",
    "\n",
    "# print classification report\n",
    "print(classification_report(y_test, [1 if x >= 0.5 else 0 for x in y_pred]))"
   ]
  },
  {
   "cell_type": "code",
   "execution_count": 82,
   "metadata": {},
   "outputs": [
    {
     "name": "stderr",
     "output_type": "stream",
     "text": [
      "C:\\Users\\Ajaxclopidia\\anaconda3\\lib\\site-packages\\seaborn\\_decorators.py:36: FutureWarning: Pass the following variable as a keyword arg: x. From version 0.12, the only valid positional argument will be `data`, and passing other arguments without an explicit keyword will result in an error or misinterpretation.\n",
      "  warnings.warn(\n"
     ]
    },
    {
     "data": {
      "image/png": "[encoded data removed]",
      "text/plain": [
       "<Figure size 432x288 with 1 Axes>"
      ]
     },
     "metadata": {
      "needs_background": "light"
     },
     "output_type": "display_data"
    }
   ],
   "source": [
    "# Make prediction on the test set\n",
    "test_df = test_n\n",
    "predictions = model.predict_proba(test_df)[:, 1]\n",
    "\n",
    "# # Create a submission file\n",
    "ss = pd.read_csv('SampleSubmission.csv')\n",
    "sub_file = ss.copy()\n",
    "#sub_file = samplesubmission.copy()\n",
    "sub_file.target = predictions\n",
    "\n",
    "# # Check the distribution of your predictions\n",
    "sns.countplot([1 if x >= 0.5 else 0 for x in sub_file.target])\n",
    "plt.title('Predicted Variable Distribution');"
   ]
  },
  {
   "cell_type": "code",
   "execution_count": 83,
   "metadata": {},
   "outputs": [
    {
     "data": {
      "text/html": [
       "<div>\n",
       "<style scoped>\n",
       "    .dataframe tbody tr th:only-of-type {\n",
       "        vertical-align: middle;\n",
       "    }\n",
       "\n",
       "    .dataframe tbody tr th {\n",
       "        vertical-align: top;\n",
       "    }\n",
       "\n",
       "    .dataframe thead th {\n",
       "        text-align: right;\n",
       "    }\n",
       "</style>\n",
       "<table border=\"1\" class=\"dataframe\">\n",
       "  <thead>\n",
       "    <tr style=\"text-align: right;\">\n",
       "      <th></th>\n",
       "      <th>ID</th>\n",
       "      <th>target</th>\n",
       "    </tr>\n",
       "  </thead>\n",
       "  <tbody>\n",
       "    <tr>\n",
       "      <th>0</th>\n",
       "      <td>ID_0000005111</td>\n",
       "      <td>0.817086</td>\n",
       "    </tr>\n",
       "    <tr>\n",
       "      <th>1</th>\n",
       "      <td>ID_0000389416</td>\n",
       "      <td>0.315389</td>\n",
       "    </tr>\n",
       "    <tr>\n",
       "      <th>2</th>\n",
       "      <td>ID_0000634789</td>\n",
       "      <td>0.430590</td>\n",
       "    </tr>\n",
       "    <tr>\n",
       "      <th>3</th>\n",
       "      <td>ID_0000778100</td>\n",
       "      <td>0.962578</td>\n",
       "    </tr>\n",
       "    <tr>\n",
       "      <th>4</th>\n",
       "      <td>ID_0001123210</td>\n",
       "      <td>0.562628</td>\n",
       "    </tr>\n",
       "  </tbody>\n",
       "</table>\n",
       "</div>"
      ],
      "text/plain": [
       "              ID    target\n",
       "0  ID_0000005111  0.817086\n",
       "1  ID_0000389416  0.315389\n",
       "2  ID_0000634789  0.430590\n",
       "3  ID_0000778100  0.962578\n",
       "4  ID_0001123210  0.562628"
      ]
     },
     "execution_count": 83,
     "metadata": {},
     "output_type": "execute_result"
    }
   ],
   "source": [
    "# Create a csv file and upload to zindi \n",
    "sub_file.to_csv('Baseline_7.csv', index = False)\n",
    "sub_file.head()"
   ]
  },
  {
   "cell_type": "code",
   "execution_count": null,
   "metadata": {},
   "outputs": [],
   "source": []
  },
  {
   "cell_type": "code",
   "execution_count": null,
   "metadata": {},
   "outputs": [],
   "source": []
  },
  {
   "cell_type": "code",
   "execution_count": null,
   "metadata": {},
   "outputs": [],
   "source": []
  },
  {
   "cell_type": "code",
   "execution_count": null,
   "metadata": {
    "id": "EcORnKxZmgeD"
   },
   "outputs": [],
   "source": [
    "from sklearn.preprocessing import StandardScaler\n",
    "from sklearn.metrics import roc_auc_score"
   ]
  },
  {
   "cell_type": "code",
   "execution_count": null,
   "metadata": {
    "id": "ktiGvfX2hwtB"
   },
   "outputs": [],
   "source": [
    "ss = pd.read_csv('SampleSubmission.csv')\n",
    "sub_file = ss.copy()"
   ]
  },
  {
   "cell_type": "markdown",
   "metadata": {
    "id": "cvTgjBG5_HTl"
   },
   "source": [
    "Cross validation"
   ]
  },
  {
   "cell_type": "code",
   "execution_count": null,
   "metadata": {
    "id": "4B0NLL6Pdu7H"
   },
   "outputs": [],
   "source": [
    "from sklearn.preprocessing import StandardScaler\n",
    "from sklearn.metrics import roc_auc_score\n",
    "\n",
    "target = np.array('target')\n",
    "features = np.array([c for c in train_n.columns if c not in ['target']])"
   ]
  },
  {
   "cell_type": "code",
   "execution_count": null,
   "metadata": {
    "colab": {
     "base_uri": "https://localhost:8080/"
    },
    "id": "PItVBA06Ms5X",
    "outputId": "0f132c9c-769a-432a-ef35-4a1a1f732e0a"
   },
   "outputs": [],
   "source": [
    "scores = 0\n",
    "test_oofs = []\n",
    "k = 5\n",
    "kf = StratifiedKFold(k)\n",
    "\n",
    "for i, (tr_idx, vr_idx) in enumerate(kf.split(train_n, train_n[target])):\n",
    "    xtrain, ytrain = np.array(train_n.loc[tr_idx, features]), np.array(train_n.loc[tr_idx, target])\n",
    "    xval, yval = np.array(train_n.loc[vr_idx, features]), np.array(train_n.loc[vr_idx, target])\n",
    "    \n",
    "    \n",
    "        #scaler1.fit(xtrain)\n",
    "    \n",
    "    #xtrain = scaler1.transform(xtrain)\n",
    "    #xval = scaler1.transform(xval)\n",
    "    test = test_n[features]\n",
    "\n",
    "   # training and validation\n",
    "\n",
    "    model=LGBMClassifier( max_depth=10, \\\n",
    "                        learning_rate=0.143242, n_estimators=800, silent=True,\\\n",
    "                        colsample_bytree=0.8, reg_alpha=0.8)\n",
    "    model.fit(xtrain, ytrain, eval_set=[(xval,yval)], early_stopping_rounds=100,verbose=100)\n",
    "    pred = model.predict(xval)\n",
    "\n",
    "    #predicting on test set\n",
    "    predictions = model.predict(test)\n",
    "    score = roc_auc_score(yval, pred)\n",
    "    #\n",
    "    scores += score/k\n",
    "    test_oofs.append(predictions)\n",
    "\n",
    "    print('Fold {} : {}'.format(i, score))\n",
    "\n",
    "print()\n",
    "print()\n",
    "print('roc_auc_score : ', scores)"
   ]
  },
  {
   "cell_type": "code",
   "execution_count": null,
   "metadata": {
    "id": "G_yqdlAzd1HE"
   },
   "outputs": [],
   "source": [
    "predictions = np.mean(test_oofs, axis=0)\n",
    "predtest = [int(round(i)) for i in predictions]\n",
    "sub_file.target = predtest\n",
    "sub_file.to_csv('newfoldxgb_1.csv',index=False) #0.65863 priv LB"
   ]
  },
  {
   "cell_type": "code",
   "execution_count": null,
   "metadata": {
    "colab": {
     "base_uri": "https://localhost:8080/"
    },
    "id": "uZgdAwBpeRV8",
    "outputId": "08b29153-3218-4837-a21b-5a71f437815a"
   },
   "outputs": [],
   "source": [
    "scores = 0\n",
    "test_oofs = []\n",
    "k = 8\n",
    "kf = StratifiedKFold(k)\n",
    "\n",
    "for i, (tr_idx, vr_idx) in enumerate(kf.split(train_n, train_n[target])):\n",
    "    xtrain, ytrain = train_n.loc[tr_idx, features], train_n.loc[tr_idx, target]\n",
    "    xval, yval = train_n.loc[vr_idx, features], train_n.loc[vr_idx, target]\n",
    "    \n",
    "    #scaler1.fit(xtrain)\n",
    "    \n",
    "    #xtrain = scaler1.transform(xtrain)\n",
    "    #xval = scaler1.transform(xval)\n",
    "    test = test_n[features]\n",
    "\n",
    "   # training and validation\n",
    "    model=CatBoostClassifier(class_weights=class_weight, n_estimators=800,eval_metric='AUC',max_depth=4,learning_rate=0.1,\n",
    "                                #reg_lambda=5,#5\n",
    "                                subsample=0.9,bootstrap_type='Bernoulli',leaf_estimation_iterations=10,\n",
    "                                l2_leaf_reg=5,random_strength=100,\n",
    "                                use_best_model=True,allow_writing_files=False, metric_period=20)\n",
    "    model.fit(X_train, y_train, eval_set=(xval, yval))\n",
    "    pred = model.predict(xval)\n",
    "\n",
    "    #predicting on test set\n",
    "    predictions = model.predict(test)\n",
    "    score = roc_auc_score(yval, pred)\n",
    "    #\n",
    "    scores += score/k\n",
    "    test_oofs.append(predictions)\n",
    "\n",
    "    print('Fold {} : {}'.format(i, score))\n",
    "\n",
    "print()\n",
    "print()\n",
    "print('roc_auc_score : ', scores)"
   ]
  },
  {
   "cell_type": "code",
   "execution_count": null,
   "metadata": {
    "id": "et0WHhN5esab"
   },
   "outputs": [],
   "source": [
    "predictions = np.mean(test_oofs, axis=0)\n",
    "predtest = [int(round(i)) for i in predictions]\n",
    "sub_file.target = predtest\n",
    "sub_file.to_csv('newfoldxgb2.csv',index=False) # 0.658569 priv LB"
   ]
  },
  {
   "cell_type": "markdown",
   "metadata": {
    "id": "CqM6cr_F-1mN"
   },
   "source": [
    "Stacking"
   ]
  },
  {
   "cell_type": "code",
   "execution_count": null,
   "metadata": {
    "id": "IuAX9gu9sxup"
   },
   "outputs": [],
   "source": [
    "from sklearn.ensemble import VotingClassifier, RandomForestClassifier"
   ]
  },
  {
   "cell_type": "code",
   "execution_count": null,
   "metadata": {
    "id": "nNw4HYbEy0PA"
   },
   "outputs": [],
   "source": [
    "ctb1=CatBoostClassifier(class_weights=class_weight, n_estimators=800,\\\n",
    "                        eval_metric='AUC',max_depth=4,learning_rate=0.1,\n",
    "                              subsample=0.9,bootstrap_type='Bernoulli'\n",
    "                    ,allow_writing_files=False, metric_period=20)"
   ]
  },
  {
   "cell_type": "code",
   "execution_count": null,
   "metadata": {
    "id": "9EbctIxHy0VK"
   },
   "outputs": [],
   "source": [
    "xgb1=XGBClassifier(scale_pos_weight=8.1922929, max_depth=10, \\\n",
    "                        learning_rate=0.143242, n_estimators=800, silent=True,\\\n",
    "                        metrics='auc',colsample_bylevel=0.8, reg_alpha=0.8)\n",
    "\n",
    "xgb2=XGBClassifier(scale_pos_weight=8.5922929, max_depth=12, \\\n",
    "                        learning_rate=0.163242, n_estimators=800, silent=True,\\\n",
    "                        metrics='auc',colsample_bylevel=0.8, reg_alpha=0.8)\n",
    "\n",
    "ctb1=CatBoostClassifier(class_weights=class_weight, n_estimators=800,\\\n",
    "                        eval_metric='AUC',max_depth=4,learning_rate=0.1,\n",
    "                              subsample=0.9,bootstrap_type='Bernoulli'\n",
    "                    ,allow_writing_files=False, metric_period=20)\n"
   ]
  },
  {
   "cell_type": "code",
   "execution_count": null,
   "metadata": {
    "id": "HldjGYbZyjnJ"
   },
   "outputs": [],
   "source": [
    "vcf = VotingClassifier(estimators=[('ctb1', ctb1)], voting='soft')"
   ]
  },
  {
   "cell_type": "code",
   "execution_count": null,
   "metadata": {
    "colab": {
     "base_uri": "https://localhost:8080/"
    },
    "id": "pKnVJ1P20kqK",
    "outputId": "44dbb6f2-f8f7-4b16-e564-538c52429490"
   },
   "outputs": [],
   "source": [
    "scores = 0\n",
    "test_oofs = []\n",
    "k = 8\n",
    "kf = StratifiedKFold(k)\n",
    "\n",
    "for i, (tr_idx, vr_idx) in enumerate(kf.split(train_n, train_n[target])):\n",
    "    xtrain, ytrain = train_n.loc[tr_idx, features], train_n.loc[tr_idx, target]\n",
    "    xval, yval = train_n.loc[vr_idx, features], train_n.loc[vr_idx, target]\n",
    "    \n",
    "    test = test_n[features]\n",
    "    vcf.fit(xtrain,ytrain)\n",
    "\n",
    "    pred = vcf.predict(xval)\n",
    "\n",
    "    #predicting on test set\n",
    "    predictions = vcf.predict(test)\n",
    "    score = roc_auc_score(yval, pred)\n",
    "    #\n",
    "    scores += score/k\n",
    "    test_oofs.append(predictions)\n",
    "\n",
    "    print('Fold {} : {}'.format(i, score))\n",
    "\n",
    "print()\n",
    "print()\n",
    "print('roc_auc_score : ', scores)"
   ]
  },
  {
   "cell_type": "code",
   "execution_count": null,
   "metadata": {
    "id": "4Hk4JAcK1EWn"
   },
   "outputs": [],
   "source": [
    "predictions = np.mean(test_oofs, axis=0)\n",
    "predtest = [int(round(i)) for i in predictions]\n",
    "sub_file.target = predtest\n",
    "sub_file.to_csv('vcf.csv',index=False) # 0.65957 priv LB"
   ]
  },
  {
   "cell_type": "code",
   "execution_count": null,
   "metadata": {
    "id": "bZJp8qk0IqZL"
   },
   "outputs": [],
   "source": []
  }
 ],
 "metadata": {
  "colab": {
   "collapsed_sections": [],
   "name": "umojahack.ipynb",
   "provenance": []
  },
  "kernelspec": {
   "display_name": "Python 3",
   "language": "python",
   "name": "python3"
  },
  "language_info": {
   "codemirror_mode": {
    "name": "ipython",
    "version": 3
   },
   "file_extension": ".py",
   "mimetype": "text/x-python",
   "name": "python",
   "nbconvert_exporter": "python",
   "pygments_lexer": "ipython3",
   "version": "3.8.5"
  }
 },
 "nbformat": 4,
 "nbformat_minor": 1
}
